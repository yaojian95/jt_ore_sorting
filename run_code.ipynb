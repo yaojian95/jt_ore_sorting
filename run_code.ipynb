{
 "cells": [
  {
   "cell_type": "markdown",
   "metadata": {},
   "source": [
    "## Import"
   ]
  },
  {
   "cell_type": "code",
   "execution_count": 1,
   "metadata": {},
   "outputs": [],
   "source": [
    "import numpy as np\n",
    "import pandas as pd\n",
    "import os\n",
    "import sys\n",
    "\n",
    "import matplotlib.pyplot as plt\n",
    "plt.rcParams['font.sans-serif'] = ['Arial Unicode MS'] \n",
    "# %matplotlib inline\n",
    "\n",
    "import pickle\n",
    "import cv2\n",
    "\n",
    "import importlib\n",
    "# from classifiers import R_from_path\n",
    "%config InlineBackend.figure_format = 'png' "
   ]
  },
  {
   "cell_type": "code",
   "execution_count": 2,
   "metadata": {},
   "outputs": [],
   "source": [
    "current_dir = os.getcwd()\n",
    "code_path = os.path.abspath(os.path.join(current_dir, '..', '..', 'codes'))\n",
    "data_path = os.path.abspath(os.path.join(current_dir, '..', '..', 'data'))\n",
    "\n",
    "sys.path.append(os.path.join(code_path, 'project_x_ray_images_stack'))\n",
    "# sys.path.append(r'E:\\photoelectric_sorting\\codes\\project_x_ray_images_stack')"
   ]
  },
  {
   "cell_type": "code",
   "execution_count": 3,
   "metadata": {},
   "outputs": [],
   "source": [
    "import logging\n",
    "\n",
    "logging.basicConfig(level=logging.INFO, format='%(asctime)s - %(levelname)s - %(message)s')"
   ]
  },
  {
   "cell_type": "code",
   "execution_count": 4,
   "metadata": {},
   "outputs": [],
   "source": [
    "from matplotlib import rc\n",
    "\n",
    "rc('text', usetex=False)\n",
    "font = {'family': 'serif',\n",
    "        'serif': 'Times New Roman',\n",
    "        'weight': 'normal',\n",
    "        'size': 10}\n",
    "rc('font', **font)"
   ]
  },
  {
   "cell_type": "code",
   "execution_count": 5,
   "metadata": {},
   "outputs": [],
   "source": [
    "import seaborn as sns\n",
    "\n",
    "# sns.set_context(\"notebook\")\n",
    "# sns.set_context('talk')\n",
    "# sns.set_style(\"ticks\")\n",
    "# sns.set_style(\"whitegrid\")\n",
    "\n",
    "sns.reset_defaults()\n"
   ]
  },
  {
   "cell_type": "code",
   "execution_count": 6,
   "metadata": {},
   "outputs": [],
   "source": [
    "cycle = plt.rcParams['axes.prop_cycle'].by_key()['color']"
   ]
  },
  {
   "cell_type": "code",
   "execution_count": 7,
   "metadata": {},
   "outputs": [],
   "source": [
    "import dataloader\n",
    "importlib.reload(dataloader)\n",
    "from dataloader import path2truth, path2pixel, load_data"
   ]
  },
  {
   "cell_type": "code",
   "execution_count": 8,
   "metadata": {},
   "outputs": [],
   "source": [
    "excel_0225 = os.path.join(data_path, '化验结果/20250225化验结果.xlsx')\n",
    "path_0225_p1 = os.path.join(data_path, '20250225/160kV_4mA_1_105_forward.png')\n",
    "path_0225_p2 = os.path.join(data_path, '20250225/160kV_4mA_106_200_forward.png')"
   ]
  },
  {
   "cell_type": "code",
   "execution_count": 9,
   "metadata": {},
   "outputs": [
    {
     "name": "stderr",
     "output_type": "stream",
     "text": [
      "2025-04-17 15:33:47,925 - INFO - 2个盒子的图像转换rock_pixels完成。\n",
      "2025-04-17 15:33:48,157 - INFO - 2个盒子的图像转换rock_pixels完成。\n"
     ]
    }
   ],
   "source": [
    "x1 = path2pixel(path_0225_p1, [[50, 1000, 350, 1150], [1850, -60, 350,1150]], max_len = [6, 9], length=[102, 35], \n",
    "               s_i = [64, 1], th_val = 115, save_rock_image = False, direction = 'ublr', save_rock_pixels=False)\n",
    "\n",
    "x1[2][0].insert(55, np.array((0, 1)))\n",
    "x1[2][1].insert(55, np.array((0, 1)))\n",
    "\n",
    "x2 = path2pixel(path_0225_p2, [[30, 1000, 350, 1150], [1850, -60, 350,1150]], max_len = [7, 7], length=[35, 35], \n",
    "               s_i = [50, 1], th_val = 115, save_rock_image = False, direction = 'ublr', save_rock_pixels=False)\n",
    "\n",
    "x2[2][0].insert(19, np.array((0, 1)))\n",
    "x2[2][1].insert(19, np.array((0, 1)))\n",
    "\n",
    "x2[2][0].insert(61, np.array((0, 1)))\n",
    "x2[2][1].insert(61, np.array((0, 1)))\n",
    "\n",
    "x  = [x1[2][0] + x2[2][0], x1[2][1] + x2[2][1]]"
   ]
  },
  {
   "cell_type": "code",
   "execution_count": 10,
   "metadata": {},
   "outputs": [
    {
     "name": "stderr",
     "output_type": "stream",
     "text": [
      "2025-04-17 15:33:48,458 - INFO - 加载数据完成。清洗后的样本数量: 183\n"
     ]
    },
    {
     "name": "stdout",
     "output_type": "stream",
     "text": [
      "品位信息（加权平均）：\n",
      "  - 铁品位：11.98% ± 9.48%\n",
      "  - 锌品位：9.64% ± 11.91%\n",
      "  - 铅品位：6.17% ± 10.63%\n",
      "注：品位值为加权平均值，权重为矿石重量；± 后为标准差\n"
     ]
    }
   ],
   "source": [
    "input_0225 = load_data(x, excel_0225)"
   ]
  },
  {
   "cell_type": "code",
   "execution_count": 68,
   "metadata": {},
   "outputs": [
    {
     "name": "stderr",
     "output_type": "stream",
     "text": [
      "2025-04-17 17:13:57,211 - INFO - 2个盒子的图像转换rock_pixels完成。\n",
      "2025-04-17 17:13:57,422 - INFO - 2个盒子的图像转换rock_pixels完成。\n"
     ]
    }
   ],
   "source": [
    "path_0219 = os.path.join(data_path, '20250219/160kV_4mA_forward.png')\n",
    "excel_0219 = os.path.join(data_path, '化验结果/20250219化验结果.xlsx')\n",
    "\n",
    "excel_0224 = os.path.join(data_path, '化验结果/20250224化验结果.xlsx')\n",
    "path_0224 = os.path.join(data_path, '20250224/160kV_4mA_forward.png')\n",
    "\n",
    "z = path2pixel(path_0219, [[105, 1000, 400, 1200], [1950, 2844, 350, 1150]], max_len = [6, 9], length = [102, 35], \n",
    "           s_i = [64, 1], th_val = 105, save_rock_image = False, direction = 'ublr', save_rock_pixels=False)\n",
    "\n",
    "consts = [5, 20]; th_val = 110\n",
    "\n",
    "y = path2pixel(path_0224, [[105, 1000, 400, 1200], [1850,-100, 350,1150]], max_len = [6, 9], length=[102, 35], \n",
    "               s_i = [64, 1], th_val = 110, save_rock_image = False, direction = 'ublr', save_rock_pixels=False)\n"
   ]
  },
  {
   "cell_type": "code",
   "execution_count": 69,
   "metadata": {},
   "outputs": [
    {
     "name": "stderr",
     "output_type": "stream",
     "text": [
      "2025-04-17 17:13:57,758 - INFO - 加载数据完成。清洗后的样本数量: 102\n"
     ]
    },
    {
     "name": "stdout",
     "output_type": "stream",
     "text": [
      "品位信息（加权平均）：\n",
      "  - 铁品位：11.08% ± 9.18%\n",
      "  - 锌品位：1.39% ± 3.45%\n",
      "  - 铅品位：1.32% ± 4.90%\n",
      "注：品位值为加权平均值，权重为矿石重量；± 后为标准差\n"
     ]
    },
    {
     "name": "stderr",
     "output_type": "stream",
     "text": [
      "2025-04-17 17:13:58,226 - INFO - 加载数据完成。清洗后的样本数量: 98\n"
     ]
    },
    {
     "name": "stdout",
     "output_type": "stream",
     "text": [
      "品位信息（加权平均）：\n",
      "  - 铁品位：15.58% ± 10.75%\n",
      "  - 锌品位：3.74% ± 6.12%\n",
      "  - 铅品位：2.60% ± 6.98%\n",
      "注：品位值为加权平均值，权重为矿石重量；± 后为标准差\n"
     ]
    }
   ],
   "source": [
    "input_0224 = load_data(y[2], excel_0224)\n",
    "input_0219 = load_data(z[2], excel_0219)"
   ]
  },
  {
   "cell_type": "code",
   "execution_count": 86,
   "metadata": {},
   "outputs": [],
   "source": [
    "def merge_datasets(datasets):\n",
    "    \"\"\"\n",
    "    合并多个数据集\n",
    "    Parameters:\n",
    "        datasets: 要合并的数据集列表，每个元素格式为 [pixels, truth]\n",
    "                  pixels是包含低能和高能数据的列表\n",
    "    Returns:\n",
    "        合并后的数据集，格式为 [pixels, truth]\n",
    "    \"\"\"\n",
    "    merged = [[], None]\n",
    "    offset = 0\n",
    "    \n",
    "    # 合并pixels\n",
    "    for i, dataset in enumerate(datasets):\n",
    "        if not merged[0]:\n",
    "            merged[0] = [d.copy(deep=True) for d in dataset[0]]\n",
    "        else:\n",
    "            for i in range(2):\n",
    "                # 在复制的DataFrame上增加索引偏移量\n",
    "                copied_data = dataset[0][i].copy(deep=True)\n",
    "                copied_data.index += offset\n",
    "                merged[0][i] = pd.concat([merged[0][i], copied_data], axis=0)\n",
    "\n",
    "        if merged[1] is None:\n",
    "            merged[1] = dataset[1].copy(deep=True)\n",
    "            merged[1]['source'] = f'source_{i}'\n",
    "\n",
    "        else:\n",
    "            copied_truth = dataset[1].copy(deep=True)\n",
    "            copied_truth['source'] = f'source_{i}'\n",
    "            copied_truth.index += offset\n",
    "            merged[1] = pd.concat([merged[1], copied_truth], axis=0)\n",
    "\n",
    "        offset += len(dataset[0][0])\n",
    "    \n",
    "    # 计算Zn_Pb_grade\n",
    "    merged[1]['Zn_Pb_grade'] = merged[1]['Zn_grade'] + merged[1]['Pb_grade']\n",
    "    \n",
    "    return merged"
   ]
  },
  {
   "cell_type": "code",
   "execution_count": 89,
   "metadata": {},
   "outputs": [],
   "source": [
    "\n",
    "# 使用示例\n",
    "input_test = merge_datasets([input_0219, input_0224, input_0225])  # 可以添加更多数据集"
   ]
  },
  {
   "cell_type": "code",
   "execution_count": 111,
   "metadata": {},
   "outputs": [],
   "source": [
    "from itertools import combinations\n",
    "\n",
    "def select_ores(data, N, target_grade):\n",
    "    \"\"\"\n",
    "    从矿石数据中挑选N个矿石，使其加权平均铅锌品位接近目标值\n",
    "    \n",
    "    参数:\n",
    "    data: pd.DataFrame, 包含weight, Pb_grade, Zn_grade等列\n",
    "    N: int, 需要挑选的矿石数量\n",
    "    target_grade: float, 目标铅锌品位\n",
    "    \n",
    "    返回:\n",
    "    selected_data: pd.DataFrame, 挑选出的矿石数据\n",
    "    \"\"\"\n",
    "    # 计算每个矿石的铅锌品位\n",
    "    data['PbZn_grade'] = data['Pb_grade'] + data['Zn_grade']\n",
    "    \n",
    "    # 初始化最佳组合\n",
    "    best_combination = None\n",
    "    best_diff = float('inf')\n",
    "    \n",
    "    # 遍历所有可能的组合\n",
    "    for combination in combinations(data.index, N):\n",
    "        # 计算当前组合的加权平均品位\n",
    "        weights = data.loc[list(combination), 'weight']\n",
    "        grades = data.loc[list(combination), 'PbZn_grade']\n",
    "        weighted_avg = np.average(grades, weights=weights)\n",
    "        \n",
    "        # 计算与目标值的差异\n",
    "        current_diff = abs(weighted_avg - target_grade)\n",
    "        \n",
    "        # 如果当前组合更接近目标值，则更新最佳组合\n",
    "        if current_diff < best_diff:\n",
    "            best_diff = current_diff\n",
    "            best_combination = combination\n",
    "    \n",
    "    # 返回最佳组合的数据\n",
    "    return data.loc[list(best_combination)]"
   ]
  },
  {
   "cell_type": "code",
   "execution_count": 113,
   "metadata": {},
   "outputs": [],
   "source": [
    "# ores = select_ores(input_test[1], 50, 3)"
   ]
  },
  {
   "cell_type": "code",
   "execution_count": 114,
   "metadata": {},
   "outputs": [],
   "source": [
    "import numpy as np\n",
    "from geneticalgorithm import geneticalgorithm as ga\n",
    "\n",
    "def select_ores_ga(data, N, target_grade, pop_size=50, max_iter=100):\n",
    "    \"\"\"\n",
    "    使用遗传算法挑选N个矿石，使其加权平均铅锌品位接近目标值\n",
    "    \n",
    "    参数:\n",
    "    data: pd.DataFrame, 包含weight, Pb_grade, Zn_grade等列\n",
    "    N: int, 需要挑选的矿石数量\n",
    "    target_grade: float, 目标铅锌品位\n",
    "    pop_size: int, 种群大小\n",
    "    max_iter: int, 最大迭代次数\n",
    "    \n",
    "    返回:\n",
    "    selected_data: pd.DataFrame, 挑选出的矿石数据\n",
    "    \"\"\"\n",
    "    # 计算每个矿石的铅锌品位\n",
    "    data['PbZn_grade'] = data['Pb_grade'] + data['Zn_grade']\n",
    "    \n",
    "    # 定义适应度函数\n",
    "    def fitness_func(chromosome):\n",
    "        selected_indices = np.where(chromosome == 1)[0]\n",
    "        if len(selected_indices) != N:\n",
    "            return 1e6  # 惩罚不符合数量要求的解\n",
    "        \n",
    "        weights = data.iloc[selected_indices]['weight']\n",
    "        grades = data.iloc[selected_indices]['PbZn_grade']\n",
    "        weighted_avg = np.average(grades, weights=weights)\n",
    "        \n",
    "        return abs(weighted_avg - target_grade)\n",
    "    \n",
    "    # 定义遗传算法参数\n",
    "    varbound = np.array([[0, 1]] * len(data))\n",
    "    algorithm_param = {\n",
    "        'max_num_iteration': max_iter,\n",
    "        'population_size': pop_size,\n",
    "        'mutation_probability': 0.1,\n",
    "        'elit_ratio': 0.01,\n",
    "        'crossover_probability': 0.5,\n",
    "        'parents_portion': 0.3,\n",
    "        'crossover_type': 'uniform',\n",
    "        'max_iteration_without_improv': None\n",
    "    }\n",
    "    \n",
    "    # 创建并运行遗传算法\n",
    "    model = ga(function=fitness_func,\n",
    "               dimension=len(data),\n",
    "               variable_type='int',\n",
    "               variable_boundaries=varbound,\n",
    "               algorithm_parameters=algorithm_param)\n",
    "    \n",
    "    model.run()\n",
    "    \n",
    "    # 获取最佳解\n",
    "    best_solution = model.output_dict['variable']\n",
    "    selected_indices = np.where(best_solution == 1)[0]\n",
    "    \n",
    "    return data.iloc[selected_indices]"
   ]
  },
  {
   "cell_type": "code",
   "execution_count": 115,
   "metadata": {},
   "outputs": [
    {
     "name": "stdout",
     "output_type": "stream",
     "text": [
      " The best solution found:                                                                           \n",
      " [0. 0. 1. 1. 0. 1. 1. 1. 1. 1. 0. 0. 0. 1. 0. 1. 1. 0. 0. 0. 1. 1. 1. 1.\n",
      " 1. 1. 0. 0. 1. 0. 1. 0. 0. 1. 1. 0. 1. 1. 1. 0. 1. 1. 0. 0. 1. 1. 0. 1.\n",
      " 0. 1. 1. 1. 1. 1. 0. 1. 0. 1. 0. 1. 1. 1. 0. 0. 0. 1. 0. 1. 1. 0. 1. 0.\n",
      " 1. 0. 1. 0. 0. 0. 1. 0. 0. 1. 1. 0. 1. 1. 1. 0. 0. 0. 0. 0. 1. 0. 1. 0.\n",
      " 1. 1. 1. 0. 1. 0. 1. 1. 1. 0. 1. 1. 0. 0. 1. 0. 1. 1. 1. 0. 0. 1. 0. 0.\n",
      " 0. 0. 0. 1. 0. 0. 0. 1. 1. 0. 1. 0. 0. 0. 0. 0. 0. 1. 0. 0. 1. 1. 0. 0.\n",
      " 1. 0. 0. 0. 1. 0. 1. 1. 1. 1. 0. 1. 1. 1. 0. 0. 0. 0. 1. 0. 1. 1. 1. 1.\n",
      " 1. 1. 1. 1. 1. 0. 0. 1. 0. 1. 0. 0. 1. 1. 1. 1. 1. 0. 0. 1. 1. 0. 0. 1.\n",
      " 0. 1. 0. 0. 1. 1. 1. 0. 0. 0. 0. 1. 1. 0. 1. 1. 1. 1. 1. 0. 1. 1. 0. 1.\n",
      " 1. 0. 0. 1. 1. 1. 0. 1. 1. 0. 1. 0. 0. 1. 1. 1. 0. 1. 0. 0. 0. 1. 1. 1.\n",
      " 1. 1. 0. 1. 0. 0. 0. 0. 1. 0. 0. 0. 1. 1. 0. 1. 0. 1. 1. 1. 1. 1. 0. 1.\n",
      " 0. 0. 1. 0. 1. 1. 0. 1. 0. 1. 0. 0. 0. 1. 1. 1. 1. 1. 0. 0. 0. 0. 0. 0.\n",
      " 1. 1. 1. 0. 0. 0. 1. 1. 0. 1. 1. 0. 0. 0. 1. 0. 0. 0. 0. 1. 0. 1. 0. 0.\n",
      " 0. 0. 1. 0. 1. 0. 1. 1. 0. 1. 1. 0. 1. 1. 1. 1. 1. 1. 1. 1. 0. 0. 0. 1.\n",
      " 0. 0. 1. 0. 0. 1. 0. 0. 1. 0. 0. 1. 1. 0. 0. 0. 1. 0. 0. 0. 0. 0. 0. 1.\n",
      " 0. 1. 0. 0. 0. 1. 0. 1. 0. 0. 0. 1. 1. 1. 0. 0. 1. 1. 0. 1. 1. 0. 1.]\n",
      "\n",
      " Objective function:\n",
      " 1000000.0\n"
     ]
    },
    {
     "data": {
      "image/png": "[encoded data removed]",
      "text/plain": [
       "<Figure size 640x480 with 1 Axes>"
      ]
     },
     "metadata": {},
     "output_type": "display_data"
    }
   ],
   "source": [
    "# 假设你的数据存储在df中\n",
    "selected_ores = select_ores_ga(input_test[1], N=50, target_grade=3.0)"
   ]
  },
  {
   "cell_type": "code",
   "execution_count": 117,
   "metadata": {},
   "outputs": [
    {
     "data": {
      "text/plain": [
       "10.746186707146403"
      ]
     },
     "execution_count": 117,
     "metadata": {},
     "output_type": "execute_result"
    }
   ],
   "source": [
    "np.average(selected_ores['PbZn_grade'], weights=selected_ores['weight'])"
   ]
  },
  {
   "cell_type": "markdown",
   "metadata": {},
   "source": [
    "## analysis"
   ]
  },
  {
   "cell_type": "code",
   "execution_count": 249,
   "metadata": {},
   "outputs": [],
   "source": [
    "import numpy as np\n",
    "import matplotlib.pyplot as plt\n",
    "from scipy.stats import pearsonr\n",
    "from mpl_toolkits.axes_grid1.inset_locator import inset_axes\n",
    "from mpl_toolkits.axes_grid1 import make_axes_locatable  # 新增导入\n",
    "from scipy.stats import gaussian_kde\n",
    "\n",
    "# 创建一个包含 2x2 子图的 Figure\n",
    "# fig, axes = plt.subplots(2, 2, figsize=(12, 10))\n",
    "\n",
    "def plot_dist(inputs): # = [input_0225, input_0219]\n",
    "    for data in inputs:\n",
    "        fig, axes = plt.subplots(3, 2, figsize=(12, 15))\n",
    "        zn = data[1]['Zn_grade']\n",
    "        pb = data[1]['Pb_grade']\n",
    "        fe = data[1]['Fe_grade']\n",
    "        zn_pb = zn + pb\n",
    "        zn_pb_fe = zn + pb + fe\n",
    "        R_0219 = RMethodClassifier(pixels=data[0], truth=data[1], I0_low=195, I0_high=196, input='pixels', method='a', const=[5, 20])\n",
    "        R_mean = R_0219.R_pixels.apply(np.std)\n",
    "        data_pairs = [(zn, R_mean), (pb, R_mean), (zn_pb, R_mean), (zn_pb_fe, R_mean), (fe, R_mean)]\n",
    "        labels = ['zn', 'pb', 'zn_pb', 'zn_pb_fe', 'fe']\n",
    "        marker_size = 5\n",
    "        \n",
    "        for i, (ax, (x, y), label) in enumerate(zip(axes.flat, data_pairs, labels)):\n",
    "            # 绘制主散点图\n",
    "            ax.scatter(x, y, s=marker_size)\n",
    "            corr, p = pearsonr(x, y)\n",
    "            ax.set_title(f'R_std vs {label}\\nPearson r: {corr:.2f}, p: {p:.2e}')\n",
    "            ax.set_xlabel(label)\n",
    "            # ax.set_ylabel('R_mean')\n",
    "\n",
    "            # 创建嵌入的小图\n",
    "            axins = inset_axes(ax, width=\"30%\", height=\"40%\", loc='lower right')\n",
    "            mask = (x >= 0) & (x <= 3)\n",
    "            x_zoom = x[mask]\n",
    "            y_zoom = y[mask]\n",
    "            axins.scatter(x_zoom, y_zoom, s=marker_size)\n",
    "            axins.set_xlim(-0.5, 3)\n",
    "\n",
    "            # 新增：创建密度分布图\n",
    "            divider = make_axes_locatable(ax)\n",
    "            ax_density = divider.append_axes(\"bottom\", size=0.2, pad=0.25, sharex=ax)\n",
    "            kde = gaussian_kde(x)\n",
    "            x_vals = np.linspace(x.min(), x.max(), 100)\n",
    "            density = kde(x_vals)\n",
    "            \n",
    "            # 绘制密度曲线并填充\n",
    "            ax_density.plot(x_vals, density, color='#1f77b4', lw=1)\n",
    "            # ax_density.fill_between(x_vals, density, color='#1f77b4', alpha=0.4)\n",
    "            \n",
    "            # 反转y轴并调整格式\n",
    "            ax_density.invert_yaxis()\n",
    "            ax_density.set_yticks([])\n",
    "            ax_density.xaxis.set_visible(False)  # 隐藏x轴\n",
    "            ax_density.spines['top'].set_visible(False)\n",
    "            # ax_density.spines['right'].set_visible(False)\n",
    "            ax_density.spines['bottom'].set_visible(False)\n",
    "\n",
    "        axes[2, 1].axis('off')\n",
    "\n",
    "        # 调整布局避免重叠\n",
    "        plt.subplots_adjust(hspace=0.4, wspace=0.3)\n",
    "        plt.tight_layout()\n",
    "        plt.show()"
   ]
  },
  {
   "cell_type": "code",
   "execution_count": 13,
   "metadata": {},
   "outputs": [],
   "source": [
    "# plot_dist([input_0225])"
   ]
  },
  {
   "cell_type": "code",
   "execution_count": null,
   "metadata": {},
   "outputs": [],
   "source": [
    "R dis vs zn dis?"
   ]
  },
  {
   "cell_type": "code",
   "execution_count": 24,
   "metadata": {},
   "outputs": [
    {
     "data": {
      "text/plain": [
       "0     [0.6013860655336569, 0.6115731431628648, 0.612...\n",
       "1     [0.5947395768284489, 0.6025953573292401, 0.610...\n",
       "2     [0.6009493009027412, 0.6092156122814837, 0.624...\n",
       "3     [0.6009538575837248, 0.603029464575499, 0.6029...\n",
       "4     [0.6054164655250774, 0.6245848176338565, 0.631...\n",
       "                            ...                        \n",
       "94    [0.5892783090088173, 0.5880481130919839, 0.594...\n",
       "95    [0.6230756662334885, 0.6272595212678455, 0.612...\n",
       "96    [0.5954078607629238, 0.6000687190283241, 0.595...\n",
       "97    [0.597295678104129, 0.6024307532707767, 0.5974...\n",
       "98    [0.598610686321509, 0.5981516919737219, 0.6025...\n",
       "Length: 98, dtype: object"
      ]
     },
     "execution_count": 24,
     "metadata": {},
     "output_type": "execute_result"
    }
   ],
   "source": [
    "R_0219.R_pixels"
   ]
  },
  {
   "cell_type": "code",
   "execution_count": 65,
   "metadata": {},
   "outputs": [
    {
     "data": {
      "text/plain": [
       "{'抛废率': '0.630', '回收率': '0.924'}"
      ]
     },
     "execution_count": 65,
     "metadata": {},
     "output_type": "execute_result"
    }
   ],
   "source": [
    "calculate_rates(zn_pb_0219[0:99] > 3, true_0219[0:99, :])"
   ]
  },
  {
   "cell_type": "code",
   "execution_count": 30,
   "metadata": {},
   "outputs": [
    {
     "data": {
      "text/plain": [
       "{'抛废率': '0.212', '回收率': '0.969'}"
      ]
     },
     "execution_count": 30,
     "metadata": {},
     "output_type": "execute_result"
    }
   ],
   "source": [
    "calculate_rates(zn_pb_fe_0219[0:99] > 10.0, true_0219[0:99, :])"
   ]
  },
  {
   "cell_type": "markdown",
   "metadata": {},
   "source": [
    "## R_double_threshold()"
   ]
  },
  {
   "cell_type": "code",
   "execution_count": 14,
   "metadata": {},
   "outputs": [],
   "source": [
    "import importlib\n",
    "from classifiers import base_classifier\n",
    "from classifiers import dual_thresh\n",
    "from classifiers import r_method\n",
    "from classifiers import dual_mean, dual_mean_parallel, dual_all_parallel\n",
    "from classifiers import demo\n",
    "\n",
    "importlib.reload(base_classifier)\n",
    "importlib.reload(dual_thresh)\n",
    "importlib.reload(r_method)\n",
    "importlib.reload(demo)\n",
    "importlib.reload(dual_mean)\n",
    "importlib.reload(dual_mean_parallel)\n",
    "\n",
    "from classifiers import base_classifier\n",
    "from classifiers.dual_thresh import DualThreshClassifier\n",
    "from classifiers.r_method import RMethodClassifier\n",
    "from classifiers.demo import Demo\n",
    "from classifiers.dual_mean import DualMeanClassifier\n",
    "from classifiers.dual_mean_parallel import DualMeanParallelClassifier\n",
    "from classifiers.dual_all_parallel import ParallelClassifier\n",
    "\n",
    "import utils\n",
    "importlib.reload(utils)\n",
    "from utils import plot_curves"
   ]
  },
  {
   "cell_type": "code",
   "execution_count": 15,
   "metadata": {},
   "outputs": [],
   "source": [
    "def main(input, plot = False, include_Fe = False, title = ''):\n",
    "\n",
    "    R_0219 = RMethodClassifier(pixels=input[0], truth=input[1], I0_low=195, I0_high=196, input= 'pixels', method= 'a', const= [5, 20], include_Fe = include_Fe)\n",
    "    R_0219.tuning(min_recovery_rate=0.95, min_scrap_rate=0.2, \n",
    "                  A_range=np.arange(0.5, 1.2, 0.01), step_B=0.05, grade_real_th= 0.1)\n",
    "    res_R, log_R = Demo(R_0219).report_rates()\n",
    "\n",
    "    dual_0219 = DualThreshClassifier(pixels=input[0][0], truth=input[1], pixel_kind= 'grayness', include_Fe = include_Fe)\n",
    "    dual_0219.tuning(min_recovery_rate=0.95, min_scrap_rate=0.2, \n",
    "                     A_range=np.arange(0, 256, 5), step_B=0.05, grade_real_th= 0.1)\n",
    "    res_dual, log_dual = Demo(dual_0219).report_rates()\n",
    "\n",
    "    if plot == True:\n",
    "\n",
    "        plt.rcParams['font.sans-serif'] = ['Arial Unicode MS'] \n",
    "        # 绘制曲线\n",
    "\n",
    "        rates = [[res_R['ideal'], 'ideal', 'blue'], \n",
    "                [res_R['baseline'], 'R_mean', 'green'],\n",
    "                [res_R['dual_thresh'], 'R_dual_thresh', 'red'],\n",
    "                [res_dual['dual_thresh'], 'Dual_thresh','black']]\n",
    "                #  [test_r[-2], test_r[-1], 'R_method_single_thresh', 'purple']]\n",
    "\n",
    "        try:\n",
    "            plot_curves(\n",
    "                title = title, \n",
    "                rates = rates,\n",
    "                scrap_rates_ideal= res_R['ideal'][0],\n",
    "                grade_thresholds_ideal=res_R['ideal'][2],\n",
    "                best_sum_point=res_R['best_sum_point'],\n",
    "                best_enrichment_point=res_R['best_enrichment_point'],\n",
    "                best_constraint_point=res_R['best_constraint_point'])\n",
    "        except:\n",
    "            logging.error('error in plotting')\n",
    "\n",
    "    return (R_0219, res_R, log_R), (dual_0219, res_dual, log_dual)\n"
   ]
  },
  {
   "cell_type": "code",
   "execution_count": 20,
   "metadata": {},
   "outputs": [],
   "source": [
    "dual_0224 = ParallelClassifier(pixels=input_0219[0][0], truth=input_0219[1], pixel_kind= 'grayness', include_Fe = False)\n",
    "dual_0224.tuning(min_recovery_rate=0.95, min_scrap_rate=0.2, \n",
    "                    A_range=np.arange(0, 256, 5), step_B=0.05, grade_real_th= 0.1)"
   ]
  },
  {
   "cell_type": "code",
   "execution_count": 27,
   "metadata": {},
   "outputs": [],
   "source": [
    "dual_0224.best_params"
   ]
  },
  {
   "cell_type": "code",
   "execution_count": 30,
   "metadata": {},
   "outputs": [],
   "source": [
    "dual_0224_t = DualThreshClassifier(pixels=input_0224[0][0], truth=input_0224[1], pixel_kind= 'grayness', include_Fe = False)\n",
    "dual_0224_t.tuning(min_recovery_rate=0.95, min_scrap_rate=0.2, \n",
    "                    A_range=np.arange(0, 256, 5), step_B=0.05, grade_real_th= 0.1)"
   ]
  },
  {
   "cell_type": "code",
   "execution_count": 31,
   "metadata": {},
   "outputs": [],
   "source": [
    "testtest = Demo(dual_0224_t)"
   ]
  },
  {
   "cell_type": "code",
   "execution_count": 40,
   "metadata": {},
   "outputs": [],
   "source": [
    "new_test = testtest.find_closest_point(target = [0.2, 0.95])"
   ]
  },
  {
   "cell_type": "code",
   "execution_count": 51,
   "metadata": {},
   "outputs": [],
   "source": [
    "params = {}\n",
    "params['close_scrap'] = [round(i, 4) for i in new_test[0][1:]]\n",
    "params['close_recov'] = [round(i, 4) for i in new_test[1][1:]]"
   ]
  },
  {
   "cell_type": "code",
   "execution_count": 52,
   "metadata": {},
   "outputs": [
    {
     "data": {
      "text/plain": [
       "{'close_scrap': [0.1937, 0.9804], 'close_recov': [0.4433, 0.9499]}"
      ]
     },
     "execution_count": 52,
     "metadata": {},
     "output_type": "execute_result"
    }
   ],
   "source": [
    "params"
   ]
  },
  {
   "cell_type": "code",
   "execution_count": 34,
   "metadata": {},
   "outputs": [
    {
     "name": "stdout",
     "output_type": "stream",
     "text": [
      "\n",
      "=== 最佳超参数 ===\n",
      "灰度阈值: 25\n",
      "比例阈值: 0.00%\n",
      "\n",
      "=== 调优指标 ===\n",
      "抛废率: 41.92%\n",
      "回收率: 95.38%\n",
      "铅富集比: 166.43%\n",
      "锌富集比: 162.16%\n",
      "铅平均品位（保留）: 2.19%\n",
      "锌平均品位（保留）: 2.25%\n",
      "铅平均品位（抛废）: 0.11%\n",
      "锌平均品位（抛废）: 0.19%\n",
      "铅平均品位: 1.32%\n",
      "锌平均品位: 1.39%\n",
      "准确率: 80.39%\n",
      "\n",
      "=== 基于品位阈值2.50%的二分类指标 ===\n",
      "准确率: 63.73%\n",
      "精确率: 33.33%\n",
      "召回率: 94.74%\n",
      "F1 分数: 49.32%\n",
      "\n",
      "=== AUC 结果 ===\n",
      "AUC_基于化验品位: 0.9090\n",
      "AUC_双阈值算法: 0.8625\n",
      "AUC_平均值算法: 0.8389\n",
      "\n",
      "=== 20%抛废率和95%回收率指标 ===\n",
      "当回收率约为 98.04% 时，抛废率为 19.37%。此时的灰度阈值为35.0，比例阈值为0.00%。\n",
      "当回收率约为 94.99% 时，抛废率为 44.33%。此时的灰度阈值为35.0，比例阈值为5.00%。\n",
      "\n"
     ]
    }
   ],
   "source": [
    "print(testtest.report_rates()[1])"
   ]
  },
  {
   "cell_type": "code",
   "execution_count": null,
   "metadata": {},
   "outputs": [],
   "source": []
  },
  {
   "cell_type": "code",
   "execution_count": 31,
   "metadata": {},
   "outputs": [],
   "source": [
    "dual_0224 = DualThreshClassifier(pixels=input_0224[0][0], truth=input_0224[1], pixel_kind= 'grayness', include_Fe = False)\n",
    "dual_0224.tuning(min_recovery_rate=0.95, min_scrap_rate=0.2, \n",
    "                    A_range=np.arange(0, 256, 5), step_B=0.05, grade_real_th= 0.1)\n",
    "\n",
    "dmp_0224_new = ParallelClassifier(pixels=input_0224[0][0], truth=input_0224[1], pixel_kind= 'grayness')\n",
    "dmp_0224_new.tuning(min_recovery_rate=0.95, min_scrap_rate=0.2, A_range=np.arange(0, 256, 5), step_B=0.05, \n",
    "               mean_range= np.arange(20, 100), grade_real_th=0.1)"
   ]
  },
  {
   "cell_type": "code",
   "execution_count": 48,
   "metadata": {},
   "outputs": [],
   "source": [
    "R_0219 = RMethodClassifier(pixels=input_0219[0], truth=input_0219[1], I0_low=195, I0_high=196, input= 'pixels', method= 'a', const= [5, 20], include_Fe = False)\n",
    "R_0219.tuning(min_recovery_rate=0.95, min_scrap_rate=0.2, \n",
    "                A_range=np.arange(0.5, 1.2, 0.01), step_B=0.05, mean_range= np.arange(0.5, 1.2, 0.01), grade_real_th= 0.1)"
   ]
  },
  {
   "cell_type": "code",
   "execution_count": 17,
   "metadata": {},
   "outputs": [],
   "source": [
    "dmp_0219 = DualMeanParallelClassifier(pixels=input_0219[0][0], truth=input_0219[1], pixel_kind= 'grayness')\n",
    "dmp_0219.tuning(min_recovery_rate=0.95, min_scrap_rate=0.2, A_range=np.arange(0, 256, 5), step_B=0.05, \n",
    "               mean_range= np.arange(20, 100), grade_real_th=0.1)"
   ]
  },
  {
   "cell_type": "code",
   "execution_count": 21,
   "metadata": {},
   "outputs": [],
   "source": [
    "dmp_0225 = DualMeanParallelClassifier(pixels=input_0225[0][0], truth=input_0225[1], pixel_kind= 'grayness')\n",
    "dmp_0225.tuning(min_recovery_rate=0.95, min_scrap_rate=0.2, A_range=np.arange(0, 256, 5), step_B=0.05, \n",
    "               mean_range= np.arange(20, 100, 5), grade_real_th=0.1)"
   ]
  },
  {
   "cell_type": "code",
   "execution_count": 23,
   "metadata": {},
   "outputs": [
    {
     "data": {
      "text/plain": [
       "(35, 0.45, 55)"
      ]
     },
     "execution_count": 23,
     "metadata": {},
     "output_type": "execute_result"
    }
   ],
   "source": [
    "dmp_0225.best_params"
   ]
  },
  {
   "cell_type": "markdown",
   "metadata": {},
   "source": [
    "# 判断算法优劣的指标\n",
    "- 能达到的最优的抛废率和回收率（跟理想曲线的接近程度）\n",
    "- 达到最优时的各个参数值能够泛化到其他数据上（输出最佳参数值在其他数据上的最优抛废和回收）\n",
    "- 在某种数据上达到最优值时跟在另外一类数据上达到最优值时的参数的差别\n",
    "- 输出： best_metric; best_params\n",
    "\n",
    "定义一个调优函数，测试每种算法在各类数据上的最优值\n",
    "\n",
    "定义一个评估函数，输入每种算法的最优参数值，输出每种算法在测试数据上的表现"
   ]
  },
  {
   "cell_type": "code",
   "execution_count": null,
   "metadata": {},
   "outputs": [],
   "source": []
  },
  {
   "cell_type": "code",
   "execution_count": 15,
   "metadata": {},
   "outputs": [],
   "source": [
    "def tune(input_list, include_Fe = False):\n",
    "    \n",
    "    m_name = ['dmp', 'dual', 'Rmp', 'R']; \n",
    "    input_name = ['0219', '0224', 'both']\n",
    "    res = {}\n",
    "    i = 0\n",
    "    for input in input_list:\n",
    "        dmp = ParallelClassifier(pixels=input[0][0], truth=input[1], pixel_kind= 'grayness')\n",
    "        dmp.tuning(min_recovery_rate=0.95, min_scrap_rate=0.2, A_range=np.arange(0, 256, 5), step_B=0.05, \n",
    "               mean_range= np.arange(20, 100), grade_real_th=0.1)\n",
    "        \n",
    "        dual = DualThreshClassifier(pixels=input[0][0], truth=input[1], pixel_kind= 'grayness', include_Fe = include_Fe)\n",
    "        dual.tuning(min_recovery_rate=0.95, min_scrap_rate=0.2, A_range=np.arange(0, 256, 5), step_B=0.05, \n",
    "                    grade_real_th= 0.1)\n",
    "        \n",
    "        #考虑三个阈值时，R_method.py内部使用的还是ParallelClassifier\n",
    "        Rmp = RMethodClassifier(pixels=input[0], truth=input[1], I0_low=195, I0_high=196, input= 'pixels', method= 'a', const= [5, 20], include_Fe = include_Fe)\n",
    "        Rmp.tuning(min_recovery_rate=0.95, min_scrap_rate=0.2, A_range=np.arange(0.5, 1.2, 0.01), step_B=0.05, \n",
    "                   mean_range= np.arange(0.5, 1.2, 0.01), grade_real_th= 0.1)\n",
    "        \n",
    "        R = RMethodClassifier(pixels=input[0], truth=input[1], I0_low=195, I0_high=196, input= 'pixels', method= 'a', const= [5, 20], include_Fe = include_Fe)\n",
    "        R.tuning(min_recovery_rate=0.95, min_scrap_rate=0.2, A_range=np.arange(0.5, 1.2, 0.01), step_B=0.05, \n",
    "                 grade_real_th= 0.1)\n",
    "        \n",
    "        algorithms = [dmp, dual, Rmp, R]\n",
    "\n",
    "        j = 0\n",
    "        for method in algorithms:\n",
    "            if len(method.best_params) == 3:\n",
    "                params = {'grayness_th': method.best_params[0], 'ratio_th': method.best_params[1], 'mean_th': method.best_params[2]}\n",
    "            else:\n",
    "                params = {'grayness_th': method.best_params[0], 'ratio_th': method.best_params[1]}\n",
    "\n",
    "            params.update(method.best_metrics)\n",
    "            res[input_name[i] + '_' + m_name[j]] = params\n",
    "            \n",
    "            j += 1\n",
    "        i += 1\n",
    "\n",
    "    return res           "
   ]
  },
  {
   "cell_type": "code",
   "execution_count": 54,
   "metadata": {},
   "outputs": [],
   "source": [
    "res_all = tune([input_0219, input_0224, input_both])"
   ]
  },
  {
   "cell_type": "code",
   "execution_count": 18,
   "metadata": {},
   "outputs": [
    {
     "data": {
      "text/plain": [
       "12"
      ]
     },
     "execution_count": 18,
     "metadata": {},
     "output_type": "execute_result"
    }
   ],
   "source": [
    "len(res_all)"
   ]
  },
  {
   "cell_type": "code",
   "execution_count": 53,
   "metadata": {},
   "outputs": [],
   "source": [
    "# with open('results.pkl', 'wb') as f:\n",
    "#     pickle.dump(res_all, f) \n",
    "\n",
    "# with open ('results.pkl', 'rb') as f:\n",
    "#     res_all = pickle.load(f)\n",
    "\n",
    "with open ('results_new.pkl', 'rb') as f:\n",
    "    res_all_new = pickle.load(f)\n",
    "\n",
    "\n",
    "\n",
    "with open ('20250414_results_inlucde_0225.pkl', 'rb') as f:\n",
    "    res_0225 = pickle.load(f)\n",
    "\n",
    "with open ('20250414_results_inlucde_0225_v2.pkl', 'rb') as f:\n",
    "    res_0225_new = pickle.load(f)\n",
    "\n",
    "with open ('20250414_results_inlucde_0225_v3.pkl', 'rb') as f:\n",
    "    res_0225_new_new = pickle.load(f)"
   ]
  },
  {
   "cell_type": "code",
   "execution_count": 54,
   "metadata": {},
   "outputs": [],
   "source": [
    "pd.options.display.precision = 3\n",
    "res_pd = pd.DataFrame(res_0225_new_new)"
   ]
  },
  {
   "cell_type": "code",
   "execution_count": 55,
   "metadata": {},
   "outputs": [
    {
     "data": {
      "text/html": [
       "<div>\n",
       "<style scoped>\n",
       "    .dataframe tbody tr th:only-of-type {\n",
       "        vertical-align: middle;\n",
       "    }\n",
       "\n",
       "    .dataframe tbody tr th {\n",
       "        vertical-align: top;\n",
       "    }\n",
       "\n",
       "    .dataframe thead th {\n",
       "        text-align: right;\n",
       "    }\n",
       "</style>\n",
       "<table border=\"1\" class=\"dataframe\">\n",
       "  <thead>\n",
       "    <tr style=\"text-align: right;\">\n",
       "      <th></th>\n",
       "      <th>0219_dmp</th>\n",
       "      <th>0219_dual</th>\n",
       "      <th>0219_Rmp</th>\n",
       "      <th>0219_R</th>\n",
       "      <th>0224_dmp</th>\n",
       "      <th>0224_dual</th>\n",
       "      <th>0224_Rmp</th>\n",
       "      <th>0224_R</th>\n",
       "      <th>both_dmp</th>\n",
       "      <th>both_dual</th>\n",
       "      <th>both_Rmp</th>\n",
       "      <th>both_R</th>\n",
       "      <th>0225_dmp</th>\n",
       "      <th>0225_dual</th>\n",
       "      <th>0225_Rmp</th>\n",
       "      <th>0225_R</th>\n",
       "    </tr>\n",
       "  </thead>\n",
       "  <tbody>\n",
       "    <tr>\n",
       "      <th>grayness_th</th>\n",
       "      <td>14</td>\n",
       "      <td>14</td>\n",
       "      <td>0.93</td>\n",
       "      <td>0.93</td>\n",
       "      <td>36</td>\n",
       "      <td>36</td>\n",
       "      <td>0.75</td>\n",
       "      <td>0.75</td>\n",
       "      <td>17</td>\n",
       "      <td>17</td>\n",
       "      <td>0.87</td>\n",
       "      <td>0.87</td>\n",
       "      <td>8</td>\n",
       "      <td>8</td>\n",
       "      <td>1.04</td>\n",
       "      <td>1.04</td>\n",
       "    </tr>\n",
       "    <tr>\n",
       "      <th>ratio_th</th>\n",
       "      <td>0.0</td>\n",
       "      <td>0.0</td>\n",
       "      <td>0.0</td>\n",
       "      <td>0.0</td>\n",
       "      <td>0.05</td>\n",
       "      <td>0.05</td>\n",
       "      <td>0.05</td>\n",
       "      <td>0.05</td>\n",
       "      <td>0.0</td>\n",
       "      <td>0.0</td>\n",
       "      <td>0.0</td>\n",
       "      <td>0.0</td>\n",
       "      <td>0.0</td>\n",
       "      <td>0.0</td>\n",
       "      <td>0.0</td>\n",
       "      <td>0.0</td>\n",
       "    </tr>\n",
       "    <tr>\n",
       "      <th>mean_th</th>\n",
       "      <td>85</td>\n",
       "      <td>NaN</td>\n",
       "      <td>0.5</td>\n",
       "      <td>NaN</td>\n",
       "      <td>82</td>\n",
       "      <td>NaN</td>\n",
       "      <td>0.5</td>\n",
       "      <td>NaN</td>\n",
       "      <td>85</td>\n",
       "      <td>NaN</td>\n",
       "      <td>0.5</td>\n",
       "      <td>NaN</td>\n",
       "      <td>65</td>\n",
       "      <td>NaN</td>\n",
       "      <td>0.68</td>\n",
       "      <td>NaN</td>\n",
       "    </tr>\n",
       "    <tr>\n",
       "      <th>抛废率</th>\n",
       "      <td>0.276</td>\n",
       "      <td>0.276</td>\n",
       "      <td>0.344</td>\n",
       "      <td>0.344</td>\n",
       "      <td>0.436</td>\n",
       "      <td>0.436</td>\n",
       "      <td>0.436</td>\n",
       "      <td>0.436</td>\n",
       "      <td>0.415</td>\n",
       "      <td>0.415</td>\n",
       "      <td>0.413</td>\n",
       "      <td>0.413</td>\n",
       "      <td>0.359</td>\n",
       "      <td>0.359</td>\n",
       "      <td>0.361</td>\n",
       "      <td>0.355</td>\n",
       "    </tr>\n",
       "    <tr>\n",
       "      <th>回收率</th>\n",
       "      <td>0.964</td>\n",
       "      <td>0.964</td>\n",
       "      <td>0.951</td>\n",
       "      <td>0.951</td>\n",
       "      <td>0.95</td>\n",
       "      <td>0.95</td>\n",
       "      <td>0.95</td>\n",
       "      <td>0.95</td>\n",
       "      <td>0.953</td>\n",
       "      <td>0.953</td>\n",
       "      <td>0.953</td>\n",
       "      <td>0.953</td>\n",
       "      <td>0.954</td>\n",
       "      <td>0.954</td>\n",
       "      <td>0.954</td>\n",
       "      <td>0.955</td>\n",
       "    </tr>\n",
       "    <tr>\n",
       "      <th>铅富集比</th>\n",
       "      <td>1.342</td>\n",
       "      <td>1.342</td>\n",
       "      <td>1.468</td>\n",
       "      <td>1.468</td>\n",
       "      <td>1.708</td>\n",
       "      <td>1.708</td>\n",
       "      <td>1.708</td>\n",
       "      <td>1.708</td>\n",
       "      <td>1.651</td>\n",
       "      <td>1.651</td>\n",
       "      <td>1.646</td>\n",
       "      <td>1.646</td>\n",
       "      <td>1.529</td>\n",
       "      <td>1.529</td>\n",
       "      <td>1.533</td>\n",
       "      <td>1.519</td>\n",
       "    </tr>\n",
       "    <tr>\n",
       "      <th>锌富集比</th>\n",
       "      <td>1.325</td>\n",
       "      <td>1.325</td>\n",
       "      <td>1.435</td>\n",
       "      <td>1.435</td>\n",
       "      <td>1.661</td>\n",
       "      <td>1.661</td>\n",
       "      <td>1.661</td>\n",
       "      <td>1.661</td>\n",
       "      <td>1.613</td>\n",
       "      <td>1.613</td>\n",
       "      <td>1.608</td>\n",
       "      <td>1.608</td>\n",
       "      <td>1.465</td>\n",
       "      <td>1.465</td>\n",
       "      <td>1.469</td>\n",
       "      <td>1.457</td>\n",
       "    </tr>\n",
       "    <tr>\n",
       "      <th>铅平均品位（保留）</th>\n",
       "      <td>0.035</td>\n",
       "      <td>0.035</td>\n",
       "      <td>0.038</td>\n",
       "      <td>0.038</td>\n",
       "      <td>0.022</td>\n",
       "      <td>0.022</td>\n",
       "      <td>0.022</td>\n",
       "      <td>0.022</td>\n",
       "      <td>0.033</td>\n",
       "      <td>0.033</td>\n",
       "      <td>0.033</td>\n",
       "      <td>0.033</td>\n",
       "      <td>0.094</td>\n",
       "      <td>0.094</td>\n",
       "      <td>0.095</td>\n",
       "      <td>0.094</td>\n",
       "    </tr>\n",
       "    <tr>\n",
       "      <th>锌平均品位（保留）</th>\n",
       "      <td>0.049</td>\n",
       "      <td>0.049</td>\n",
       "      <td>0.054</td>\n",
       "      <td>0.054</td>\n",
       "      <td>0.023</td>\n",
       "      <td>0.023</td>\n",
       "      <td>0.023</td>\n",
       "      <td>0.023</td>\n",
       "      <td>0.042</td>\n",
       "      <td>0.042</td>\n",
       "      <td>0.042</td>\n",
       "      <td>0.042</td>\n",
       "      <td>0.141</td>\n",
       "      <td>0.141</td>\n",
       "      <td>0.142</td>\n",
       "      <td>0.14</td>\n",
       "    </tr>\n",
       "    <tr>\n",
       "      <th>铅平均品位（抛废）</th>\n",
       "      <td>0.003</td>\n",
       "      <td>0.003</td>\n",
       "      <td>0.003</td>\n",
       "      <td>0.003</td>\n",
       "      <td>0.001</td>\n",
       "      <td>0.001</td>\n",
       "      <td>0.001</td>\n",
       "      <td>0.001</td>\n",
       "      <td>0.002</td>\n",
       "      <td>0.002</td>\n",
       "      <td>0.002</td>\n",
       "      <td>0.002</td>\n",
       "      <td>0.004</td>\n",
       "      <td>0.004</td>\n",
       "      <td>0.004</td>\n",
       "      <td>0.004</td>\n",
       "    </tr>\n",
       "    <tr>\n",
       "      <th>锌平均品位（抛废）</th>\n",
       "      <td>0.006</td>\n",
       "      <td>0.006</td>\n",
       "      <td>0.006</td>\n",
       "      <td>0.006</td>\n",
       "      <td>0.002</td>\n",
       "      <td>0.002</td>\n",
       "      <td>0.002</td>\n",
       "      <td>0.002</td>\n",
       "      <td>0.004</td>\n",
       "      <td>0.004</td>\n",
       "      <td>0.004</td>\n",
       "      <td>0.004</td>\n",
       "      <td>0.017</td>\n",
       "      <td>0.017</td>\n",
       "      <td>0.017</td>\n",
       "      <td>0.016</td>\n",
       "    </tr>\n",
       "    <tr>\n",
       "      <th>铅平均品位</th>\n",
       "      <td>0.026</td>\n",
       "      <td>0.026</td>\n",
       "      <td>0.026</td>\n",
       "      <td>0.026</td>\n",
       "      <td>0.013</td>\n",
       "      <td>0.013</td>\n",
       "      <td>0.013</td>\n",
       "      <td>0.013</td>\n",
       "      <td>0.02</td>\n",
       "      <td>0.02</td>\n",
       "      <td>0.02</td>\n",
       "      <td>0.02</td>\n",
       "      <td>0.062</td>\n",
       "      <td>0.062</td>\n",
       "      <td>0.062</td>\n",
       "      <td>0.062</td>\n",
       "    </tr>\n",
       "    <tr>\n",
       "      <th>锌平均品位</th>\n",
       "      <td>0.037</td>\n",
       "      <td>0.037</td>\n",
       "      <td>0.037</td>\n",
       "      <td>0.037</td>\n",
       "      <td>0.014</td>\n",
       "      <td>0.014</td>\n",
       "      <td>0.014</td>\n",
       "      <td>0.014</td>\n",
       "      <td>0.026</td>\n",
       "      <td>0.026</td>\n",
       "      <td>0.026</td>\n",
       "      <td>0.026</td>\n",
       "      <td>0.096</td>\n",
       "      <td>0.096</td>\n",
       "      <td>0.096</td>\n",
       "      <td>0.096</td>\n",
       "    </tr>\n",
       "    <tr>\n",
       "      <th>准确率</th>\n",
       "      <td>0.847</td>\n",
       "      <td>0.847</td>\n",
       "      <td>0.806</td>\n",
       "      <td>0.806</td>\n",
       "      <td>0.784</td>\n",
       "      <td>0.784</td>\n",
       "      <td>0.784</td>\n",
       "      <td>0.784</td>\n",
       "      <td>0.875</td>\n",
       "      <td>0.875</td>\n",
       "      <td>0.88</td>\n",
       "      <td>0.88</td>\n",
       "      <td>0.825</td>\n",
       "      <td>0.825</td>\n",
       "      <td>0.831</td>\n",
       "      <td>0.825</td>\n",
       "    </tr>\n",
       "    <tr>\n",
       "      <th>close_scrap</th>\n",
       "      <td>[0.1979, 0.9749]</td>\n",
       "      <td>[0.1979, 0.9749]</td>\n",
       "      <td>[0.1954, 0.9756]</td>\n",
       "      <td>[0.1954, 0.9756]</td>\n",
       "      <td>[0.1937, 0.9804]</td>\n",
       "      <td>[0.1937, 0.9804]</td>\n",
       "      <td>[0.1717, 0.9823]</td>\n",
       "      <td>[0.1717, 0.9823]</td>\n",
       "      <td>[0.1998, 0.9843]</td>\n",
       "      <td>[0.1998, 0.9843]</td>\n",
       "      <td>[0.1903, 0.9853]</td>\n",
       "      <td>[0.2098, 0.9836]</td>\n",
       "      <td>[0.2002, 0.9872]</td>\n",
       "      <td>[0.2002, 0.9872]</td>\n",
       "      <td>[0.1976, 0.9879]</td>\n",
       "      <td>[0.2056, 0.9871]</td>\n",
       "    </tr>\n",
       "    <tr>\n",
       "      <th>close_recov</th>\n",
       "      <td>[0.2932, 0.9488]</td>\n",
       "      <td>[0.2932, 0.9488]</td>\n",
       "      <td>[0.3436, 0.9508]</td>\n",
       "      <td>[0.3436, 0.9508]</td>\n",
       "      <td>[0.4433, 0.9499]</td>\n",
       "      <td>[0.4433, 0.9499]</td>\n",
       "      <td>[0.4356, 0.9502]</td>\n",
       "      <td>[0.4356, 0.9502]</td>\n",
       "      <td>[0.4159, 0.9495]</td>\n",
       "      <td>[0.4153, 0.9527]</td>\n",
       "      <td>[0.4198, 0.9499]</td>\n",
       "      <td>[0.4198, 0.9499]</td>\n",
       "      <td>[0.3805, 0.949]</td>\n",
       "      <td>[0.3805, 0.949]</td>\n",
       "      <td>[0.3695, 0.9499]</td>\n",
       "      <td>[0.3695, 0.9499]</td>\n",
       "    </tr>\n",
       "  </tbody>\n",
       "</table>\n",
       "</div>"
      ],
      "text/plain": [
       "                     0219_dmp         0219_dual          0219_Rmp  \\\n",
       "grayness_th                14                14              0.93   \n",
       "ratio_th                  0.0               0.0               0.0   \n",
       "mean_th                    85               NaN               0.5   \n",
       "抛废率                     0.276             0.276             0.344   \n",
       "回收率                     0.964             0.964             0.951   \n",
       "铅富集比                    1.342             1.342             1.468   \n",
       "锌富集比                    1.325             1.325             1.435   \n",
       "铅平均品位（保留）               0.035             0.035             0.038   \n",
       "锌平均品位（保留）               0.049             0.049             0.054   \n",
       "铅平均品位（抛废）               0.003             0.003             0.003   \n",
       "锌平均品位（抛废）               0.006             0.006             0.006   \n",
       "铅平均品位                   0.026             0.026             0.026   \n",
       "锌平均品位                   0.037             0.037             0.037   \n",
       "准确率                     0.847             0.847             0.806   \n",
       "close_scrap  [0.1979, 0.9749]  [0.1979, 0.9749]  [0.1954, 0.9756]   \n",
       "close_recov  [0.2932, 0.9488]  [0.2932, 0.9488]  [0.3436, 0.9508]   \n",
       "\n",
       "                       0219_R          0224_dmp         0224_dual  \\\n",
       "grayness_th              0.93                36                36   \n",
       "ratio_th                  0.0              0.05              0.05   \n",
       "mean_th                   NaN                82               NaN   \n",
       "抛废率                     0.344             0.436             0.436   \n",
       "回收率                     0.951              0.95              0.95   \n",
       "铅富集比                    1.468             1.708             1.708   \n",
       "锌富集比                    1.435             1.661             1.661   \n",
       "铅平均品位（保留）               0.038             0.022             0.022   \n",
       "锌平均品位（保留）               0.054             0.023             0.023   \n",
       "铅平均品位（抛废）               0.003             0.001             0.001   \n",
       "锌平均品位（抛废）               0.006             0.002             0.002   \n",
       "铅平均品位                   0.026             0.013             0.013   \n",
       "锌平均品位                   0.037             0.014             0.014   \n",
       "准确率                     0.806             0.784             0.784   \n",
       "close_scrap  [0.1954, 0.9756]  [0.1937, 0.9804]  [0.1937, 0.9804]   \n",
       "close_recov  [0.3436, 0.9508]  [0.4433, 0.9499]  [0.4433, 0.9499]   \n",
       "\n",
       "                     0224_Rmp            0224_R          both_dmp  \\\n",
       "grayness_th              0.75              0.75                17   \n",
       "ratio_th                 0.05              0.05               0.0   \n",
       "mean_th                   0.5               NaN                85   \n",
       "抛废率                     0.436             0.436             0.415   \n",
       "回收率                      0.95              0.95             0.953   \n",
       "铅富集比                    1.708             1.708             1.651   \n",
       "锌富集比                    1.661             1.661             1.613   \n",
       "铅平均品位（保留）               0.022             0.022             0.033   \n",
       "锌平均品位（保留）               0.023             0.023             0.042   \n",
       "铅平均品位（抛废）               0.001             0.001             0.002   \n",
       "锌平均品位（抛废）               0.002             0.002             0.004   \n",
       "铅平均品位                   0.013             0.013              0.02   \n",
       "锌平均品位                   0.014             0.014             0.026   \n",
       "准确率                     0.784             0.784             0.875   \n",
       "close_scrap  [0.1717, 0.9823]  [0.1717, 0.9823]  [0.1998, 0.9843]   \n",
       "close_recov  [0.4356, 0.9502]  [0.4356, 0.9502]  [0.4159, 0.9495]   \n",
       "\n",
       "                    both_dual          both_Rmp            both_R  \\\n",
       "grayness_th                17              0.87              0.87   \n",
       "ratio_th                  0.0               0.0               0.0   \n",
       "mean_th                   NaN               0.5               NaN   \n",
       "抛废率                     0.415             0.413             0.413   \n",
       "回收率                     0.953             0.953             0.953   \n",
       "铅富集比                    1.651             1.646             1.646   \n",
       "锌富集比                    1.613             1.608             1.608   \n",
       "铅平均品位（保留）               0.033             0.033             0.033   \n",
       "锌平均品位（保留）               0.042             0.042             0.042   \n",
       "铅平均品位（抛废）               0.002             0.002             0.002   \n",
       "锌平均品位（抛废）               0.004             0.004             0.004   \n",
       "铅平均品位                    0.02              0.02              0.02   \n",
       "锌平均品位                   0.026             0.026             0.026   \n",
       "准确率                     0.875              0.88              0.88   \n",
       "close_scrap  [0.1998, 0.9843]  [0.1903, 0.9853]  [0.2098, 0.9836]   \n",
       "close_recov  [0.4153, 0.9527]  [0.4198, 0.9499]  [0.4198, 0.9499]   \n",
       "\n",
       "                     0225_dmp         0225_dual          0225_Rmp  \\\n",
       "grayness_th                 8                 8              1.04   \n",
       "ratio_th                  0.0               0.0               0.0   \n",
       "mean_th                    65               NaN              0.68   \n",
       "抛废率                     0.359             0.359             0.361   \n",
       "回收率                     0.954             0.954             0.954   \n",
       "铅富集比                    1.529             1.529             1.533   \n",
       "锌富集比                    1.465             1.465             1.469   \n",
       "铅平均品位（保留）               0.094             0.094             0.095   \n",
       "锌平均品位（保留）               0.141             0.141             0.142   \n",
       "铅平均品位（抛废）               0.004             0.004             0.004   \n",
       "锌平均品位（抛废）               0.017             0.017             0.017   \n",
       "铅平均品位                   0.062             0.062             0.062   \n",
       "锌平均品位                   0.096             0.096             0.096   \n",
       "准确率                     0.825             0.825             0.831   \n",
       "close_scrap  [0.2002, 0.9872]  [0.2002, 0.9872]  [0.1976, 0.9879]   \n",
       "close_recov   [0.3805, 0.949]   [0.3805, 0.949]  [0.3695, 0.9499]   \n",
       "\n",
       "                       0225_R  \n",
       "grayness_th              1.04  \n",
       "ratio_th                  0.0  \n",
       "mean_th                   NaN  \n",
       "抛废率                     0.355  \n",
       "回收率                     0.955  \n",
       "铅富集比                    1.519  \n",
       "锌富集比                    1.457  \n",
       "铅平均品位（保留）               0.094  \n",
       "锌平均品位（保留）                0.14  \n",
       "铅平均品位（抛废）               0.004  \n",
       "锌平均品位（抛废）               0.016  \n",
       "铅平均品位                   0.062  \n",
       "锌平均品位                   0.096  \n",
       "准确率                     0.825  \n",
       "close_scrap  [0.2056, 0.9871]  \n",
       "close_recov  [0.3695, 0.9499]  "
      ]
     },
     "execution_count": 55,
     "metadata": {},
     "output_type": "execute_result"
    }
   ],
   "source": [
    "res_pd"
   ]
  },
  {
   "cell_type": "code",
   "execution_count": 41,
   "metadata": {},
   "outputs": [],
   "source": [
    "res_0225_new['0219_dmp']['closest_scrap'] = new_test[0][1:]\n",
    "res_0225_new['0219_dmp']['closest_recov'] = new_test[1][1:]"
   ]
  },
  {
   "cell_type": "code",
   "execution_count": 48,
   "metadata": {},
   "outputs": [
    {
     "data": {
      "text/plain": [
       "0.1937"
      ]
     },
     "execution_count": 48,
     "metadata": {},
     "output_type": "execute_result"
    }
   ],
   "source": [
    "round(new_test[0][1], 4)"
   ]
  },
  {
   "cell_type": "code",
   "execution_count": null,
   "metadata": {},
   "outputs": [],
   "source": []
  },
  {
   "cell_type": "code",
   "execution_count": 46,
   "metadata": {},
   "outputs": [
    {
     "data": {
      "text/html": [
       "<div>\n",
       "<style scoped>\n",
       "    .dataframe tbody tr th:only-of-type {\n",
       "        vertical-align: middle;\n",
       "    }\n",
       "\n",
       "    .dataframe tbody tr th {\n",
       "        vertical-align: top;\n",
       "    }\n",
       "\n",
       "    .dataframe thead th {\n",
       "        text-align: right;\n",
       "    }\n",
       "</style>\n",
       "<table border=\"1\" class=\"dataframe\">\n",
       "  <thead>\n",
       "    <tr style=\"text-align: right;\">\n",
       "      <th></th>\n",
       "      <th>0219_dmp</th>\n",
       "      <th>0219_dual</th>\n",
       "      <th>0219_Rmp</th>\n",
       "      <th>0219_R</th>\n",
       "      <th>0224_dmp</th>\n",
       "      <th>0224_dual</th>\n",
       "      <th>0224_Rmp</th>\n",
       "      <th>0224_R</th>\n",
       "      <th>both_dmp</th>\n",
       "      <th>both_dual</th>\n",
       "      <th>both_Rmp</th>\n",
       "      <th>both_R</th>\n",
       "      <th>0225_dmp</th>\n",
       "      <th>0225_dual</th>\n",
       "      <th>0225_Rmp</th>\n",
       "      <th>0225_R</th>\n",
       "    </tr>\n",
       "  </thead>\n",
       "  <tbody>\n",
       "    <tr>\n",
       "      <th>grayness_th</th>\n",
       "      <td>14</td>\n",
       "      <td>14.000</td>\n",
       "      <td>0.930</td>\n",
       "      <td>0.930</td>\n",
       "      <td>36.000</td>\n",
       "      <td>36.000</td>\n",
       "      <td>0.750</td>\n",
       "      <td>0.750</td>\n",
       "      <td>17.000</td>\n",
       "      <td>17.000</td>\n",
       "      <td>0.870</td>\n",
       "      <td>0.870</td>\n",
       "      <td>8.000</td>\n",
       "      <td>8.000</td>\n",
       "      <td>1.040</td>\n",
       "      <td>1.040</td>\n",
       "    </tr>\n",
       "    <tr>\n",
       "      <th>ratio_th</th>\n",
       "      <td>0.0</td>\n",
       "      <td>0.000</td>\n",
       "      <td>0.000</td>\n",
       "      <td>0.000</td>\n",
       "      <td>0.050</td>\n",
       "      <td>0.050</td>\n",
       "      <td>0.050</td>\n",
       "      <td>0.050</td>\n",
       "      <td>0.000</td>\n",
       "      <td>0.000</td>\n",
       "      <td>0.000</td>\n",
       "      <td>0.000</td>\n",
       "      <td>0.000</td>\n",
       "      <td>0.000</td>\n",
       "      <td>0.000</td>\n",
       "      <td>0.000</td>\n",
       "    </tr>\n",
       "    <tr>\n",
       "      <th>mean_th</th>\n",
       "      <td>85</td>\n",
       "      <td>NaN</td>\n",
       "      <td>0.500</td>\n",
       "      <td>NaN</td>\n",
       "      <td>82.000</td>\n",
       "      <td>NaN</td>\n",
       "      <td>0.500</td>\n",
       "      <td>NaN</td>\n",
       "      <td>85.000</td>\n",
       "      <td>NaN</td>\n",
       "      <td>0.500</td>\n",
       "      <td>NaN</td>\n",
       "      <td>65.000</td>\n",
       "      <td>NaN</td>\n",
       "      <td>0.680</td>\n",
       "      <td>NaN</td>\n",
       "    </tr>\n",
       "    <tr>\n",
       "      <th>抛废率</th>\n",
       "      <td>0.276</td>\n",
       "      <td>0.276</td>\n",
       "      <td>0.344</td>\n",
       "      <td>0.344</td>\n",
       "      <td>0.436</td>\n",
       "      <td>0.436</td>\n",
       "      <td>0.436</td>\n",
       "      <td>0.436</td>\n",
       "      <td>0.415</td>\n",
       "      <td>0.415</td>\n",
       "      <td>0.413</td>\n",
       "      <td>0.413</td>\n",
       "      <td>0.359</td>\n",
       "      <td>0.359</td>\n",
       "      <td>0.361</td>\n",
       "      <td>0.355</td>\n",
       "    </tr>\n",
       "    <tr>\n",
       "      <th>回收率</th>\n",
       "      <td>0.964</td>\n",
       "      <td>0.964</td>\n",
       "      <td>0.951</td>\n",
       "      <td>0.951</td>\n",
       "      <td>0.950</td>\n",
       "      <td>0.950</td>\n",
       "      <td>0.950</td>\n",
       "      <td>0.950</td>\n",
       "      <td>0.953</td>\n",
       "      <td>0.953</td>\n",
       "      <td>0.953</td>\n",
       "      <td>0.953</td>\n",
       "      <td>0.954</td>\n",
       "      <td>0.954</td>\n",
       "      <td>0.954</td>\n",
       "      <td>0.955</td>\n",
       "    </tr>\n",
       "    <tr>\n",
       "      <th>铅富集比</th>\n",
       "      <td>1.342</td>\n",
       "      <td>1.342</td>\n",
       "      <td>1.468</td>\n",
       "      <td>1.468</td>\n",
       "      <td>1.708</td>\n",
       "      <td>1.708</td>\n",
       "      <td>1.708</td>\n",
       "      <td>1.708</td>\n",
       "      <td>1.651</td>\n",
       "      <td>1.651</td>\n",
       "      <td>1.646</td>\n",
       "      <td>1.646</td>\n",
       "      <td>1.529</td>\n",
       "      <td>1.529</td>\n",
       "      <td>1.533</td>\n",
       "      <td>1.519</td>\n",
       "    </tr>\n",
       "    <tr>\n",
       "      <th>锌富集比</th>\n",
       "      <td>1.325</td>\n",
       "      <td>1.325</td>\n",
       "      <td>1.435</td>\n",
       "      <td>1.435</td>\n",
       "      <td>1.661</td>\n",
       "      <td>1.661</td>\n",
       "      <td>1.661</td>\n",
       "      <td>1.661</td>\n",
       "      <td>1.613</td>\n",
       "      <td>1.613</td>\n",
       "      <td>1.608</td>\n",
       "      <td>1.608</td>\n",
       "      <td>1.465</td>\n",
       "      <td>1.465</td>\n",
       "      <td>1.469</td>\n",
       "      <td>1.457</td>\n",
       "    </tr>\n",
       "    <tr>\n",
       "      <th>铅平均品位（保留）</th>\n",
       "      <td>0.035</td>\n",
       "      <td>0.035</td>\n",
       "      <td>0.038</td>\n",
       "      <td>0.038</td>\n",
       "      <td>0.022</td>\n",
       "      <td>0.022</td>\n",
       "      <td>0.022</td>\n",
       "      <td>0.022</td>\n",
       "      <td>0.033</td>\n",
       "      <td>0.033</td>\n",
       "      <td>0.033</td>\n",
       "      <td>0.033</td>\n",
       "      <td>0.094</td>\n",
       "      <td>0.094</td>\n",
       "      <td>0.095</td>\n",
       "      <td>0.094</td>\n",
       "    </tr>\n",
       "    <tr>\n",
       "      <th>锌平均品位（保留）</th>\n",
       "      <td>0.049</td>\n",
       "      <td>0.049</td>\n",
       "      <td>0.054</td>\n",
       "      <td>0.054</td>\n",
       "      <td>0.023</td>\n",
       "      <td>0.023</td>\n",
       "      <td>0.023</td>\n",
       "      <td>0.023</td>\n",
       "      <td>0.042</td>\n",
       "      <td>0.042</td>\n",
       "      <td>0.042</td>\n",
       "      <td>0.042</td>\n",
       "      <td>0.141</td>\n",
       "      <td>0.141</td>\n",
       "      <td>0.142</td>\n",
       "      <td>0.140</td>\n",
       "    </tr>\n",
       "    <tr>\n",
       "      <th>铅平均品位（抛废）</th>\n",
       "      <td>0.003</td>\n",
       "      <td>0.003</td>\n",
       "      <td>0.003</td>\n",
       "      <td>0.003</td>\n",
       "      <td>0.001</td>\n",
       "      <td>0.001</td>\n",
       "      <td>0.001</td>\n",
       "      <td>0.001</td>\n",
       "      <td>0.002</td>\n",
       "      <td>0.002</td>\n",
       "      <td>0.002</td>\n",
       "      <td>0.002</td>\n",
       "      <td>0.004</td>\n",
       "      <td>0.004</td>\n",
       "      <td>0.004</td>\n",
       "      <td>0.004</td>\n",
       "    </tr>\n",
       "    <tr>\n",
       "      <th>锌平均品位（抛废）</th>\n",
       "      <td>0.006</td>\n",
       "      <td>0.006</td>\n",
       "      <td>0.006</td>\n",
       "      <td>0.006</td>\n",
       "      <td>0.002</td>\n",
       "      <td>0.002</td>\n",
       "      <td>0.002</td>\n",
       "      <td>0.002</td>\n",
       "      <td>0.004</td>\n",
       "      <td>0.004</td>\n",
       "      <td>0.004</td>\n",
       "      <td>0.004</td>\n",
       "      <td>0.017</td>\n",
       "      <td>0.017</td>\n",
       "      <td>0.017</td>\n",
       "      <td>0.016</td>\n",
       "    </tr>\n",
       "    <tr>\n",
       "      <th>铅平均品位</th>\n",
       "      <td>0.026</td>\n",
       "      <td>0.026</td>\n",
       "      <td>0.026</td>\n",
       "      <td>0.026</td>\n",
       "      <td>0.013</td>\n",
       "      <td>0.013</td>\n",
       "      <td>0.013</td>\n",
       "      <td>0.013</td>\n",
       "      <td>0.020</td>\n",
       "      <td>0.020</td>\n",
       "      <td>0.020</td>\n",
       "      <td>0.020</td>\n",
       "      <td>0.062</td>\n",
       "      <td>0.062</td>\n",
       "      <td>0.062</td>\n",
       "      <td>0.062</td>\n",
       "    </tr>\n",
       "    <tr>\n",
       "      <th>锌平均品位</th>\n",
       "      <td>0.037</td>\n",
       "      <td>0.037</td>\n",
       "      <td>0.037</td>\n",
       "      <td>0.037</td>\n",
       "      <td>0.014</td>\n",
       "      <td>0.014</td>\n",
       "      <td>0.014</td>\n",
       "      <td>0.014</td>\n",
       "      <td>0.026</td>\n",
       "      <td>0.026</td>\n",
       "      <td>0.026</td>\n",
       "      <td>0.026</td>\n",
       "      <td>0.096</td>\n",
       "      <td>0.096</td>\n",
       "      <td>0.096</td>\n",
       "      <td>0.096</td>\n",
       "    </tr>\n",
       "    <tr>\n",
       "      <th>准确率</th>\n",
       "      <td>0.847</td>\n",
       "      <td>0.847</td>\n",
       "      <td>0.806</td>\n",
       "      <td>0.806</td>\n",
       "      <td>0.784</td>\n",
       "      <td>0.784</td>\n",
       "      <td>0.784</td>\n",
       "      <td>0.784</td>\n",
       "      <td>0.875</td>\n",
       "      <td>0.875</td>\n",
       "      <td>0.880</td>\n",
       "      <td>0.880</td>\n",
       "      <td>0.825</td>\n",
       "      <td>0.825</td>\n",
       "      <td>0.831</td>\n",
       "      <td>0.825</td>\n",
       "    </tr>\n",
       "    <tr>\n",
       "      <th>closest</th>\n",
       "      <td>[[11, 0.19367060396701585, 0.9803644146343459]...</td>\n",
       "      <td>NaN</td>\n",
       "      <td>NaN</td>\n",
       "      <td>NaN</td>\n",
       "      <td>NaN</td>\n",
       "      <td>NaN</td>\n",
       "      <td>NaN</td>\n",
       "      <td>NaN</td>\n",
       "      <td>NaN</td>\n",
       "      <td>NaN</td>\n",
       "      <td>NaN</td>\n",
       "      <td>NaN</td>\n",
       "      <td>NaN</td>\n",
       "      <td>NaN</td>\n",
       "      <td>NaN</td>\n",
       "      <td>NaN</td>\n",
       "    </tr>\n",
       "    <tr>\n",
       "      <th>closest_scrap</th>\n",
       "      <td>[0.19367060396701585, 0.9803644146343459]</td>\n",
       "      <td>NaN</td>\n",
       "      <td>NaN</td>\n",
       "      <td>NaN</td>\n",
       "      <td>NaN</td>\n",
       "      <td>NaN</td>\n",
       "      <td>NaN</td>\n",
       "      <td>NaN</td>\n",
       "      <td>NaN</td>\n",
       "      <td>NaN</td>\n",
       "      <td>NaN</td>\n",
       "      <td>NaN</td>\n",
       "      <td>NaN</td>\n",
       "      <td>NaN</td>\n",
       "      <td>NaN</td>\n",
       "      <td>NaN</td>\n",
       "    </tr>\n",
       "    <tr>\n",
       "      <th>closest_recov</th>\n",
       "      <td>[0.44333630488076675, 0.9499309348815552]</td>\n",
       "      <td>NaN</td>\n",
       "      <td>NaN</td>\n",
       "      <td>NaN</td>\n",
       "      <td>NaN</td>\n",
       "      <td>NaN</td>\n",
       "      <td>NaN</td>\n",
       "      <td>NaN</td>\n",
       "      <td>NaN</td>\n",
       "      <td>NaN</td>\n",
       "      <td>NaN</td>\n",
       "      <td>NaN</td>\n",
       "      <td>NaN</td>\n",
       "      <td>NaN</td>\n",
       "      <td>NaN</td>\n",
       "      <td>NaN</td>\n",
       "    </tr>\n",
       "  </tbody>\n",
       "</table>\n",
       "</div>"
      ],
      "text/plain": [
       "                                                        0219_dmp  0219_dual  \\\n",
       "grayness_th                                                   14     14.000   \n",
       "ratio_th                                                     0.0      0.000   \n",
       "mean_th                                                       85        NaN   \n",
       "抛废率                                                        0.276      0.276   \n",
       "回收率                                                        0.964      0.964   \n",
       "铅富集比                                                       1.342      1.342   \n",
       "锌富集比                                                       1.325      1.325   \n",
       "铅平均品位（保留）                                                  0.035      0.035   \n",
       "锌平均品位（保留）                                                  0.049      0.049   \n",
       "铅平均品位（抛废）                                                  0.003      0.003   \n",
       "锌平均品位（抛废）                                                  0.006      0.006   \n",
       "铅平均品位                                                      0.026      0.026   \n",
       "锌平均品位                                                      0.037      0.037   \n",
       "准确率                                                        0.847      0.847   \n",
       "closest        [[11, 0.19367060396701585, 0.9803644146343459]...        NaN   \n",
       "closest_scrap          [0.19367060396701585, 0.9803644146343459]        NaN   \n",
       "closest_recov          [0.44333630488076675, 0.9499309348815552]        NaN   \n",
       "\n",
       "               0219_Rmp  0219_R  0224_dmp  0224_dual  0224_Rmp  0224_R  \\\n",
       "grayness_th       0.930   0.930    36.000     36.000     0.750   0.750   \n",
       "ratio_th          0.000   0.000     0.050      0.050     0.050   0.050   \n",
       "mean_th           0.500     NaN    82.000        NaN     0.500     NaN   \n",
       "抛废率               0.344   0.344     0.436      0.436     0.436   0.436   \n",
       "回收率               0.951   0.951     0.950      0.950     0.950   0.950   \n",
       "铅富集比              1.468   1.468     1.708      1.708     1.708   1.708   \n",
       "锌富集比              1.435   1.435     1.661      1.661     1.661   1.661   \n",
       "铅平均品位（保留）         0.038   0.038     0.022      0.022     0.022   0.022   \n",
       "锌平均品位（保留）         0.054   0.054     0.023      0.023     0.023   0.023   \n",
       "铅平均品位（抛废）         0.003   0.003     0.001      0.001     0.001   0.001   \n",
       "锌平均品位（抛废）         0.006   0.006     0.002      0.002     0.002   0.002   \n",
       "铅平均品位             0.026   0.026     0.013      0.013     0.013   0.013   \n",
       "锌平均品位             0.037   0.037     0.014      0.014     0.014   0.014   \n",
       "准确率               0.806   0.806     0.784      0.784     0.784   0.784   \n",
       "closest             NaN     NaN       NaN        NaN       NaN     NaN   \n",
       "closest_scrap       NaN     NaN       NaN        NaN       NaN     NaN   \n",
       "closest_recov       NaN     NaN       NaN        NaN       NaN     NaN   \n",
       "\n",
       "               both_dmp  both_dual  both_Rmp  both_R  0225_dmp  0225_dual  \\\n",
       "grayness_th      17.000     17.000     0.870   0.870     8.000      8.000   \n",
       "ratio_th          0.000      0.000     0.000   0.000     0.000      0.000   \n",
       "mean_th          85.000        NaN     0.500     NaN    65.000        NaN   \n",
       "抛废率               0.415      0.415     0.413   0.413     0.359      0.359   \n",
       "回收率               0.953      0.953     0.953   0.953     0.954      0.954   \n",
       "铅富集比              1.651      1.651     1.646   1.646     1.529      1.529   \n",
       "锌富集比              1.613      1.613     1.608   1.608     1.465      1.465   \n",
       "铅平均品位（保留）         0.033      0.033     0.033   0.033     0.094      0.094   \n",
       "锌平均品位（保留）         0.042      0.042     0.042   0.042     0.141      0.141   \n",
       "铅平均品位（抛废）         0.002      0.002     0.002   0.002     0.004      0.004   \n",
       "锌平均品位（抛废）         0.004      0.004     0.004   0.004     0.017      0.017   \n",
       "铅平均品位             0.020      0.020     0.020   0.020     0.062      0.062   \n",
       "锌平均品位             0.026      0.026     0.026   0.026     0.096      0.096   \n",
       "准确率               0.875      0.875     0.880   0.880     0.825      0.825   \n",
       "closest             NaN        NaN       NaN     NaN       NaN        NaN   \n",
       "closest_scrap       NaN        NaN       NaN     NaN       NaN        NaN   \n",
       "closest_recov       NaN        NaN       NaN     NaN       NaN        NaN   \n",
       "\n",
       "               0225_Rmp  0225_R  \n",
       "grayness_th       1.040   1.040  \n",
       "ratio_th          0.000   0.000  \n",
       "mean_th           0.680     NaN  \n",
       "抛废率               0.361   0.355  \n",
       "回收率               0.954   0.955  \n",
       "铅富集比              1.533   1.519  \n",
       "锌富集比              1.469   1.457  \n",
       "铅平均品位（保留）         0.095   0.094  \n",
       "锌平均品位（保留）         0.142   0.140  \n",
       "铅平均品位（抛废）         0.004   0.004  \n",
       "锌平均品位（抛废）         0.017   0.016  \n",
       "铅平均品位             0.062   0.062  \n",
       "锌平均品位             0.096   0.096  \n",
       "准确率               0.831   0.825  \n",
       "closest             NaN     NaN  \n",
       "closest_scrap       NaN     NaN  \n",
       "closest_recov       NaN     NaN  "
      ]
     },
     "execution_count": 46,
     "metadata": {},
     "output_type": "execute_result"
    }
   ],
   "source": [
    "res_pd"
   ]
  },
  {
   "cell_type": "code",
   "execution_count": null,
   "metadata": {},
   "outputs": [],
   "source": []
  },
  {
   "cell_type": "code",
   "execution_count": 48,
   "metadata": {},
   "outputs": [
    {
     "data": {
      "text/html": [
       "<div>\n",
       "<style scoped>\n",
       "    .dataframe tbody tr th:only-of-type {\n",
       "        vertical-align: middle;\n",
       "    }\n",
       "\n",
       "    .dataframe tbody tr th {\n",
       "        vertical-align: top;\n",
       "    }\n",
       "\n",
       "    .dataframe thead th {\n",
       "        text-align: right;\n",
       "    }\n",
       "</style>\n",
       "<table border=\"1\" class=\"dataframe\">\n",
       "  <thead>\n",
       "    <tr style=\"text-align: right;\">\n",
       "      <th></th>\n",
       "      <th>0219_dmp</th>\n",
       "      <th>0219_dual</th>\n",
       "      <th>0219_Rmp</th>\n",
       "      <th>0219_R</th>\n",
       "      <th>0224_dmp</th>\n",
       "      <th>0224_dual</th>\n",
       "      <th>0224_Rmp</th>\n",
       "      <th>0224_R</th>\n",
       "      <th>both_dmp</th>\n",
       "      <th>both_dual</th>\n",
       "      <th>both_Rmp</th>\n",
       "      <th>both_R</th>\n",
       "    </tr>\n",
       "  </thead>\n",
       "  <tbody>\n",
       "    <tr>\n",
       "      <th>grayness_th</th>\n",
       "      <td>15.0000</td>\n",
       "      <td>15.0000</td>\n",
       "      <td>0.9300</td>\n",
       "      <td>0.9300</td>\n",
       "      <td>25.0000</td>\n",
       "      <td>25.0000</td>\n",
       "      <td>0.7500</td>\n",
       "      <td>0.7500</td>\n",
       "      <td>20.0000</td>\n",
       "      <td>20.0000</td>\n",
       "      <td>0.8700</td>\n",
       "      <td>0.8700</td>\n",
       "    </tr>\n",
       "    <tr>\n",
       "      <th>ratio_th</th>\n",
       "      <td>0.0000</td>\n",
       "      <td>0.0000</td>\n",
       "      <td>0.0000</td>\n",
       "      <td>0.0000</td>\n",
       "      <td>0.0000</td>\n",
       "      <td>0.0000</td>\n",
       "      <td>0.0500</td>\n",
       "      <td>0.0500</td>\n",
       "      <td>0.0000</td>\n",
       "      <td>0.0000</td>\n",
       "      <td>0.0000</td>\n",
       "      <td>0.0000</td>\n",
       "    </tr>\n",
       "    <tr>\n",
       "      <th>mean_th</th>\n",
       "      <td>85.0000</td>\n",
       "      <td>NaN</td>\n",
       "      <td>0.5000</td>\n",
       "      <td>NaN</td>\n",
       "      <td>82.0000</td>\n",
       "      <td>NaN</td>\n",
       "      <td>0.5000</td>\n",
       "      <td>NaN</td>\n",
       "      <td>85.0000</td>\n",
       "      <td>NaN</td>\n",
       "      <td>0.5000</td>\n",
       "      <td>NaN</td>\n",
       "    </tr>\n",
       "    <tr>\n",
       "      <th>抛废率</th>\n",
       "      <td>0.2693</td>\n",
       "      <td>0.2693</td>\n",
       "      <td>0.3436</td>\n",
       "      <td>0.3436</td>\n",
       "      <td>0.4192</td>\n",
       "      <td>0.4192</td>\n",
       "      <td>0.4356</td>\n",
       "      <td>0.4356</td>\n",
       "      <td>0.3968</td>\n",
       "      <td>0.3968</td>\n",
       "      <td>0.4134</td>\n",
       "      <td>0.4134</td>\n",
       "    </tr>\n",
       "    <tr>\n",
       "      <th>回收率</th>\n",
       "      <td>0.9644</td>\n",
       "      <td>0.9644</td>\n",
       "      <td>0.9508</td>\n",
       "      <td>0.9508</td>\n",
       "      <td>0.9538</td>\n",
       "      <td>0.9538</td>\n",
       "      <td>0.9502</td>\n",
       "      <td>0.9502</td>\n",
       "      <td>0.9568</td>\n",
       "      <td>0.9568</td>\n",
       "      <td>0.9527</td>\n",
       "      <td>0.9527</td>\n",
       "    </tr>\n",
       "    <tr>\n",
       "      <th>铅富集比</th>\n",
       "      <td>1.3301</td>\n",
       "      <td>1.3301</td>\n",
       "      <td>1.4678</td>\n",
       "      <td>1.4678</td>\n",
       "      <td>1.6643</td>\n",
       "      <td>1.6643</td>\n",
       "      <td>1.7077</td>\n",
       "      <td>1.7077</td>\n",
       "      <td>1.6025</td>\n",
       "      <td>1.6025</td>\n",
       "      <td>1.6456</td>\n",
       "      <td>1.6456</td>\n",
       "    </tr>\n",
       "    <tr>\n",
       "      <th>锌富集比</th>\n",
       "      <td>1.3127</td>\n",
       "      <td>1.3127</td>\n",
       "      <td>1.4352</td>\n",
       "      <td>1.4352</td>\n",
       "      <td>1.6216</td>\n",
       "      <td>1.6216</td>\n",
       "      <td>1.6606</td>\n",
       "      <td>1.6606</td>\n",
       "      <td>1.5739</td>\n",
       "      <td>1.5739</td>\n",
       "      <td>1.6076</td>\n",
       "      <td>1.6076</td>\n",
       "    </tr>\n",
       "    <tr>\n",
       "      <th>铅平均品位（保留）</th>\n",
       "      <td>0.0346</td>\n",
       "      <td>0.0346</td>\n",
       "      <td>0.0381</td>\n",
       "      <td>0.0381</td>\n",
       "      <td>0.0219</td>\n",
       "      <td>0.0219</td>\n",
       "      <td>0.0225</td>\n",
       "      <td>0.0225</td>\n",
       "      <td>0.0319</td>\n",
       "      <td>0.0319</td>\n",
       "      <td>0.0328</td>\n",
       "      <td>0.0328</td>\n",
       "    </tr>\n",
       "    <tr>\n",
       "      <th>锌平均品位（保留）</th>\n",
       "      <td>0.0490</td>\n",
       "      <td>0.0490</td>\n",
       "      <td>0.0536</td>\n",
       "      <td>0.0536</td>\n",
       "      <td>0.0225</td>\n",
       "      <td>0.0225</td>\n",
       "      <td>0.0231</td>\n",
       "      <td>0.0231</td>\n",
       "      <td>0.0414</td>\n",
       "      <td>0.0414</td>\n",
       "      <td>0.0423</td>\n",
       "      <td>0.0423</td>\n",
       "    </tr>\n",
       "    <tr>\n",
       "      <th>铅平均品位（抛废）</th>\n",
       "      <td>0.0027</td>\n",
       "      <td>0.0027</td>\n",
       "      <td>0.0028</td>\n",
       "      <td>0.0028</td>\n",
       "      <td>0.0011</td>\n",
       "      <td>0.0011</td>\n",
       "      <td>0.0011</td>\n",
       "      <td>0.0011</td>\n",
       "      <td>0.0017</td>\n",
       "      <td>0.0017</td>\n",
       "      <td>0.0017</td>\n",
       "      <td>0.0017</td>\n",
       "    </tr>\n",
       "    <tr>\n",
       "      <th>锌平均品位（抛废）</th>\n",
       "      <td>0.0057</td>\n",
       "      <td>0.0057</td>\n",
       "      <td>0.0063</td>\n",
       "      <td>0.0063</td>\n",
       "      <td>0.0019</td>\n",
       "      <td>0.0019</td>\n",
       "      <td>0.0020</td>\n",
       "      <td>0.0020</td>\n",
       "      <td>0.0034</td>\n",
       "      <td>0.0034</td>\n",
       "      <td>0.0036</td>\n",
       "      <td>0.0036</td>\n",
       "    </tr>\n",
       "    <tr>\n",
       "      <th>铅平均品位</th>\n",
       "      <td>0.0260</td>\n",
       "      <td>0.0260</td>\n",
       "      <td>0.0260</td>\n",
       "      <td>0.0260</td>\n",
       "      <td>0.0132</td>\n",
       "      <td>0.0132</td>\n",
       "      <td>0.0132</td>\n",
       "      <td>0.0132</td>\n",
       "      <td>0.0199</td>\n",
       "      <td>0.0199</td>\n",
       "      <td>0.0199</td>\n",
       "      <td>0.0199</td>\n",
       "    </tr>\n",
       "    <tr>\n",
       "      <th>锌平均品位</th>\n",
       "      <td>0.0374</td>\n",
       "      <td>0.0374</td>\n",
       "      <td>0.0374</td>\n",
       "      <td>0.0374</td>\n",
       "      <td>0.0139</td>\n",
       "      <td>0.0139</td>\n",
       "      <td>0.0139</td>\n",
       "      <td>0.0139</td>\n",
       "      <td>0.0263</td>\n",
       "      <td>0.0263</td>\n",
       "      <td>0.0263</td>\n",
       "      <td>0.0263</td>\n",
       "    </tr>\n",
       "    <tr>\n",
       "      <th>准确率</th>\n",
       "      <td>0.8673</td>\n",
       "      <td>0.8673</td>\n",
       "      <td>0.8061</td>\n",
       "      <td>0.8061</td>\n",
       "      <td>0.8039</td>\n",
       "      <td>0.8039</td>\n",
       "      <td>0.7843</td>\n",
       "      <td>0.7843</td>\n",
       "      <td>0.8750</td>\n",
       "      <td>0.8750</td>\n",
       "      <td>0.8800</td>\n",
       "      <td>0.8800</td>\n",
       "    </tr>\n",
       "  </tbody>\n",
       "</table>\n",
       "</div>"
      ],
      "text/plain": [
       "             0219_dmp  0219_dual  0219_Rmp  0219_R  0224_dmp  0224_dual  \\\n",
       "grayness_th   15.0000    15.0000    0.9300  0.9300   25.0000    25.0000   \n",
       "ratio_th       0.0000     0.0000    0.0000  0.0000    0.0000     0.0000   \n",
       "mean_th       85.0000        NaN    0.5000     NaN   82.0000        NaN   \n",
       "抛废率            0.2693     0.2693    0.3436  0.3436    0.4192     0.4192   \n",
       "回收率            0.9644     0.9644    0.9508  0.9508    0.9538     0.9538   \n",
       "铅富集比           1.3301     1.3301    1.4678  1.4678    1.6643     1.6643   \n",
       "锌富集比           1.3127     1.3127    1.4352  1.4352    1.6216     1.6216   \n",
       "铅平均品位（保留）      0.0346     0.0346    0.0381  0.0381    0.0219     0.0219   \n",
       "锌平均品位（保留）      0.0490     0.0490    0.0536  0.0536    0.0225     0.0225   \n",
       "铅平均品位（抛废）      0.0027     0.0027    0.0028  0.0028    0.0011     0.0011   \n",
       "锌平均品位（抛废）      0.0057     0.0057    0.0063  0.0063    0.0019     0.0019   \n",
       "铅平均品位          0.0260     0.0260    0.0260  0.0260    0.0132     0.0132   \n",
       "锌平均品位          0.0374     0.0374    0.0374  0.0374    0.0139     0.0139   \n",
       "准确率            0.8673     0.8673    0.8061  0.8061    0.8039     0.8039   \n",
       "\n",
       "             0224_Rmp  0224_R  both_dmp  both_dual  both_Rmp  both_R  \n",
       "grayness_th    0.7500  0.7500   20.0000    20.0000    0.8700  0.8700  \n",
       "ratio_th       0.0500  0.0500    0.0000     0.0000    0.0000  0.0000  \n",
       "mean_th        0.5000     NaN   85.0000        NaN    0.5000     NaN  \n",
       "抛废率            0.4356  0.4356    0.3968     0.3968    0.4134  0.4134  \n",
       "回收率            0.9502  0.9502    0.9568     0.9568    0.9527  0.9527  \n",
       "铅富集比           1.7077  1.7077    1.6025     1.6025    1.6456  1.6456  \n",
       "锌富集比           1.6606  1.6606    1.5739     1.5739    1.6076  1.6076  \n",
       "铅平均品位（保留）      0.0225  0.0225    0.0319     0.0319    0.0328  0.0328  \n",
       "锌平均品位（保留）      0.0231  0.0231    0.0414     0.0414    0.0423  0.0423  \n",
       "铅平均品位（抛废）      0.0011  0.0011    0.0017     0.0017    0.0017  0.0017  \n",
       "锌平均品位（抛废）      0.0020  0.0020    0.0034     0.0034    0.0036  0.0036  \n",
       "铅平均品位          0.0132  0.0132    0.0199     0.0199    0.0199  0.0199  \n",
       "锌平均品位          0.0139  0.0139    0.0263     0.0263    0.0263  0.0263  \n",
       "准确率            0.7843  0.7843    0.8750     0.8750    0.8800  0.8800  "
      ]
     },
     "execution_count": 48,
     "metadata": {},
     "output_type": "execute_result"
    }
   ],
   "source": [
    "pd.options.display.precision = 2\n",
    "pd.DataFrame(res_all_new)"
   ]
  },
  {
   "cell_type": "code",
   "execution_count": 64,
   "metadata": {},
   "outputs": [],
   "source": [
    "ids = R19.pixels.apply(np.max).values > 0.93\n",
    "ids2 = R19.pixels[ids].apply(np.mean)>0.5"
   ]
  },
  {
   "cell_type": "code",
   "execution_count": null,
   "metadata": {},
   "outputs": [],
   "source": [
    "aa"
   ]
  },
  {
   "cell_type": "code",
   "execution_count": 136,
   "metadata": {},
   "outputs": [
    {
     "data": {
      "image/png": "[encoded data removed]",
      "text/plain": [
       "<Figure size 1000x700 with 2 Axes>"
      ]
     },
     "metadata": {},
     "output_type": "display_data"
    }
   ],
   "source": [
    "res_test = [[[], res_dm_0219]]\n",
    "\n",
    "rates = [[res_test[0][1]['ideal'][0:2], 'ideal-19', 'blue', '-', '^'], \n",
    "         [res_test[0][1]['dual_thresh'][0:2], 'd_m-19', 'red', '-', 'o'],\n",
    "        #   [res_0219[0][1]['dual_thresh'][0:2], 'd-19', 'black', '--', '^']\n",
    "         [res_dmp_0219['dual_thresh'][0:2], 'd_m_p-19', 'black', '--', 'o'],\n",
    "\n",
    "         ]\n",
    "\n",
    "plot_curves(\n",
    "    title = '回收率-抛废率曲线', \n",
    "    rates = rates,\n",
    "    scrap_rates_ideal= res_test[0][1]['ideal'][0],\n",
    "    grade_thresholds_ideal=res_test[0][1]['ideal'][2],\n",
    "    best_constraint_point=res_test[0][1]['best_constraint_point'])"
   ]
  },
  {
   "cell_type": "code",
   "execution_count": 55,
   "metadata": {},
   "outputs": [],
   "source": [
    "res_0219 = main(input_0219, plot = False, include_Fe=False, title = '0219, w/o Fe')\n",
    "res_0224 = main(input_0224, plot = False, include_Fe=False, title = '0224, w/o Fe')"
   ]
  },
  {
   "cell_type": "code",
   "execution_count": 56,
   "metadata": {},
   "outputs": [],
   "source": [
    "R19 = res_0219[0][0]\n",
    "D19 = res_0219[1][0]\n",
    "\n",
    "pre_r19 = R19.classify_ores(*(R19.best_params))\n",
    "pre_d19 = D19.classify_ores(*(D19.best_params))\n",
    "\n",
    "R24 = res_0224[0][0]\n",
    "D24 = res_0224[1][0]\n",
    "pre_r24 = R24.classify_ores(*(R24.best_params))\n",
    "pre_d24 = D24.classify_ores(*(D24.best_params))"
   ]
  },
  {
   "cell_type": "code",
   "execution_count": null,
   "metadata": {},
   "outputs": [
    {
     "name": "stdout",
     "output_type": "stream",
     "text": [
      "38\n"
     ]
    }
   ],
   "source": []
  },
  {
   "cell_type": "code",
   "execution_count": 143,
   "metadata": {},
   "outputs": [
    {
     "data": {
      "text/plain": [
       "0.663087935884476"
      ]
     },
     "execution_count": 143,
     "metadata": {},
     "output_type": "execute_result"
    }
   ],
   "source": [
    "R19.pixels[38].mean()"
   ]
  },
  {
   "cell_type": "code",
   "execution_count": 144,
   "metadata": {},
   "outputs": [
    {
     "data": {
      "text/plain": [
       "0.3679"
      ]
     },
     "execution_count": 144,
     "metadata": {},
     "output_type": "execute_result"
    }
   ],
   "source": [
    "R19.pb_zn_fe[38]"
   ]
  },
  {
   "cell_type": "code",
   "execution_count": 99,
   "metadata": {},
   "outputs": [
    {
     "data": {
      "text/plain": [
       "{'抛废率': 0.34364800558088543,\n",
       " '回收率': 0.9507657524462299,\n",
       " '铅富集比': 1.4678293778146658,\n",
       " '锌富集比': 1.435158440932202,\n",
       " '铅平均品位（保留）': 0.03814457789249924,\n",
       " '锌平均品位（保留）': 0.053620020877619204,\n",
       " '铅平均品位（抛废）': 0.002766771550786631,\n",
       " '锌平均品位（抛废）': 0.006309174943812079,\n",
       " '铅平均品位': 0.0259870653013429,\n",
       " '锌平均品位': 0.037361743030121825,\n",
       " '准确率': 0.8061224489795918}"
      ]
     },
     "execution_count": 99,
     "metadata": {},
     "output_type": "execute_result"
    }
   ],
   "source": [
    "R19.best_metrics"
   ]
  },
  {
   "cell_type": "code",
   "execution_count": 100,
   "metadata": {},
   "outputs": [
    {
     "data": {
      "text/plain": [
       "[<matplotlib.lines.Line2D at 0x1610b6690>]"
      ]
     },
     "execution_count": 100,
     "metadata": {},
     "output_type": "execute_result"
    },
    {
     "data": {
      "image/png": "[encoded data removed]",
      "text/plain": [
       "<Figure size 640x480 with 1 Axes>"
      ]
     },
     "metadata": {},
     "output_type": "display_data"
    }
   ],
   "source": [
    "# plt.plot(R19.tuning_results['精确率'])\n",
    "plt.plot(R19.tuning_results['准确率'])"
   ]
  },
  {
   "cell_type": "code",
   "execution_count": 32,
   "metadata": {},
   "outputs": [
    {
     "data": {
      "text/plain": [
       "(15, 0.0)"
      ]
     },
     "execution_count": 32,
     "metadata": {},
     "output_type": "execute_result"
    }
   ],
   "source": [
    "D19.best_params"
   ]
  },
  {
   "cell_type": "code",
   "execution_count": 17,
   "metadata": {},
   "outputs": [
    {
     "data": {
      "text/plain": [
       "0.9183673469387755"
      ]
     },
     "execution_count": 17,
     "metadata": {},
     "output_type": "execute_result"
    }
   ],
   "source": [
    "accuracy_score(pre_r19, pre_d19)"
   ]
  },
  {
   "cell_type": "code",
   "execution_count": 35,
   "metadata": {},
   "outputs": [
    {
     "name": "stdout",
     "output_type": "stream",
     "text": [
      "1\n",
      "18\n"
     ]
    }
   ],
   "source": [
    "false = input_0219[1][pre_r19 == 0]\n",
    "true = input_0219[1][pre_r19 == 1]\n",
    "true_neg_id = (true['Zn_grade'] +  true['Pb_grade'] + true['Fe_grade']) < 10\n",
    "false_pos_id = (false['Zn_grade'] +  false['Pb_grade'] + false['Fe_grade']) > 10\n",
    "\n",
    "true_neg = true[true_neg_id]\n",
    "false_pos = false[false_pos_id]\n",
    "\n",
    "print(len(true_neg))\n",
    "print(len(false_pos))"
   ]
  },
  {
   "cell_type": "code",
   "execution_count": 197,
   "metadata": {},
   "outputs": [
    {
     "data": {
      "text/plain": [
       "69.0"
      ]
     },
     "execution_count": 197,
     "metadata": {},
     "output_type": "execute_result"
    }
   ],
   "source": [
    "accuracy_score(pre_r19, (input_0219[1]['Zn_grade'] + input_0219[1]['Pb_grade']) > 3, normalize = False)"
   ]
  },
  {
   "cell_type": "code",
   "execution_count": 43,
   "metadata": {},
   "outputs": [],
   "source": [
    "rpixels = R19.pixels[false_pos.index].values"
   ]
  },
  {
   "cell_type": "code",
   "execution_count": 54,
   "metadata": {},
   "outputs": [
    {
     "data": {
      "text/plain": [
       "0.7093477036923915"
      ]
     },
     "execution_count": 54,
     "metadata": {},
     "output_type": "execute_result"
    }
   ],
   "source": [
    "rpixels[0].mean()"
   ]
  },
  {
   "cell_type": "code",
   "execution_count": 50,
   "metadata": {},
   "outputs": [
    {
     "data": {
      "text/plain": [
       "(array([112., 316., 339., 625., 743., 483., 222., 117.,  39.,   7.]),\n",
       " array([0.58713615, 0.61702479, 0.64691342, 0.67680206, 0.70669069,\n",
       "        0.73657933, 0.76646796, 0.7963566 , 0.82624523, 0.85613386,\n",
       "        0.8860225 ]),\n",
       " <BarContainer object of 10 artists>)"
      ]
     },
     "execution_count": 50,
     "metadata": {},
     "output_type": "execute_result"
    },
    {
     "data": {
      "image/png": "[encoded data removed]",
      "text/plain": [
       "<Figure size 640x480 with 1 Axes>"
      ]
     },
     "metadata": {},
     "output_type": "display_data"
    }
   ],
   "source": [
    "plt.hist(rpixels[0])"
   ]
  },
  {
   "cell_type": "code",
   "execution_count": 146,
   "metadata": {},
   "outputs": [
    {
     "data": {
      "image/png": "[encoded data removed]",
      "text/plain": [
       "<Figure size 1000x700 with 2 Axes>"
      ]
     },
     "metadata": {},
     "output_type": "display_data"
    }
   ],
   "source": [
    "# rates = [[res_R['ideal'][0:2], 'ideal', 'blue'], \n",
    "#         [res_R['baseline'][0:2], 'R_mean', 'green'],\n",
    "#         [res_R['dual_thresh'][0:2], 'R_dual_thresh', 'red'],\n",
    "#         [res_dual['dual_thresh'][0:2], 'Dual_thresh','black']]\n",
    "\n",
    "rates = [[res_0219[0][1]['ideal'][0:2], 'ideal-19', 'blue', '-', '^'], \n",
    "         [res_0224[0][1]['ideal'][0:2], 'ideal-24', 'red', '-', 'o'],\n",
    "         [res_0219[0][1]['dual_thresh'][0:2], 'R_d-19', 'blue', '--', '^'],\n",
    "         [res_0224[0][1]['dual_thresh'][0:2], 'R_d-24', 'red', '--', 'o']]\n",
    "try:\n",
    "    plot_curves(\n",
    "        title = '回收率-抛废率曲线', \n",
    "        rates = rates,\n",
    "        scrap_rates_ideal= res_0219[0][1]['ideal'][0],\n",
    "        grade_thresholds_ideal=res_0219[0][1]['ideal'][2],\n",
    "        best_constraint_point=res_0219[0][1]['best_constraint_point'])\n",
    "except:\n",
    "    logging.error('error in plotting')"
   ]
  },
  {
   "cell_type": "code",
   "execution_count": 29,
   "metadata": {},
   "outputs": [],
   "source": [
    "R_mod = res_0219_fe[0][0]\n",
    "D_mod = res_0219_fe[1][0]"
   ]
  },
  {
   "cell_type": "code",
   "execution_count": 58,
   "metadata": {},
   "outputs": [
    {
     "data": {
      "text/plain": [
       "13.45195578235766"
      ]
     },
     "execution_count": 58,
     "metadata": {},
     "output_type": "execute_result"
    }
   ],
   "source": [
    "# mask = [True]*98\n",
    "np.average(input_both[1]['Fe_grade'], weights=input_both[1]['weight'])"
   ]
  },
  {
   "cell_type": "code",
   "execution_count": 237,
   "metadata": {},
   "outputs": [
    {
     "data": {
      "text/plain": [
       "Text(0.5, 1.0, 'Accuracy and Grade')"
      ]
     },
     "execution_count": 237,
     "metadata": {},
     "output_type": "execute_result"
    },
    {
     "data": {
      "image/png": "[encoded data removed]",
      "text/plain": [
       "<Figure size 640x480 with 1 Axes>"
      ]
     },
     "metadata": {},
     "output_type": "display_data"
    }
   ],
   "source": [
    "accuracy_dual = [66.33, 63.73, 71.00]\n",
    "accuracy_R = [72.45, 65.69, 71.50]\n",
    "\n",
    "plt.plot(accuracy_dual, label='DualThresh')\n",
    "plt.plot(accuracy_R, label='R_method')\n",
    "plt.xlabel('Date')\n",
    "plt.ylabel('Accuracy % (Unweighted)')\n",
    "plt.xticks(range(3), ['0219: Pb-2.35; Zn-3.40', '0224: 1.07; 1.38', '0219+0224: 1.7; 2.37'])\n",
    "plt.legend()\n",
    "plt.title('Accuracy and Grade')"
   ]
  },
  {
   "cell_type": "code",
   "execution_count": 226,
   "metadata": {},
   "outputs": [],
   "source": [
    "with open('res_both_R.txt', 'w') as f:\n",
    "    f.write(res_both[0][1])\n",
    "\n",
    "with open('res_both_dual.txt', 'w') as f:\n",
    "    f.write(res_both[1][1])\n",
    "\n",
    "with open('res_0219_R.txt', 'w') as f:\n",
    "    f.write(res_0219[0][1])\n",
    "\n",
    "with open('res_0219_dual.txt', 'w') as f:\n",
    "    f.write(res_0219[1][1])\n",
    "\n",
    "with open('res_0224_R.txt', 'w') as f:\n",
    "    f.write(res_0224[0][1])\n",
    "\n",
    "with open('res_0224_dual.txt', 'w') as f:\n",
    "    f.write(res_0224[1][1])"
   ]
  }
 ],
 "metadata": {
  "kernelspec": {
   "display_name": "py3127",
   "language": "python",
   "name": "python3"
  },
  "language_info": {
   "codemirror_mode": {
    "name": "ipython",
    "version": 3
   },
   "file_extension": ".py",
   "mimetype": "text/x-python",
   "name": "python",
   "nbconvert_exporter": "python",
   "pygments_lexer": "ipython3",
   "version": "3.12.7"
  }
 },
 "nbformat": 4,
 "nbformat_minor": 2
}
